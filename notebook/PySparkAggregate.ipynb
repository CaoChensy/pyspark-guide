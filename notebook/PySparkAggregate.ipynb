{
 "cells": [
  {
   "cell_type": "markdown",
   "metadata": {},
   "source": [
    "# PySpark中的聚合函数"
   ]
  },
  {
   "cell_type": "markdown",
   "metadata": {},
   "source": [
    "---"
   ]
  },
  {
   "cell_type": "markdown",
   "metadata": {},
   "source": [
    "[好用的pyspark文档：sparkbyexamples](https://sparkbyexamples.com/)"
   ]
  },
  {
   "cell_type": "markdown",
   "metadata": {},
   "source": [
    "1. 数据分析中常用`groupBy`分组函数，一般在分组函数分组后进行聚合统计。\n",
    "1. PySpark 中的聚合函数可解决90%以上的数据分组统计问题。"
   ]
  },
  {
   "cell_type": "code",
   "execution_count": 1,
   "metadata": {
    "ExecuteTime": {
     "end_time": "2021-06-30T01:44:45.249920Z",
     "start_time": "2021-06-30T01:44:45.234916Z"
    }
   },
   "outputs": [],
   "source": [
    "import pandas as pd\n",
    "from pyspark.sql.types import *\n",
    "from pyspark.sql import functions as F\n",
    "spark.conf.set(\"spark.sql.execution.arrow.enabled\", \"true\")"
   ]
  },
  {
   "cell_type": "markdown",
   "metadata": {},
   "source": [
    "## 创建数据"
   ]
  },
  {
   "cell_type": "code",
   "execution_count": 108,
   "metadata": {
    "ExecuteTime": {
     "end_time": "2021-06-30T01:43:01.601376Z",
     "start_time": "2021-06-30T01:43:01.585289Z"
    }
   },
   "outputs": [],
   "source": [
    "df_pd = pd.DataFrame({\n",
    "    'id': ['001', '001', '001', '002', '002', '002'],\n",
    "    'name': ['Bob', 'Bob', 'Bob', 'Tom', 'Tom', 'Tom'],\n",
    "    'state': [1, 2, 2, 1, 2, 3],\n",
    "    'date': ['20210101', '20210101', '20210201', '20210201', '20210101', '20210101']\n",
    "})"
   ]
  },
  {
   "cell_type": "code",
   "execution_count": 109,
   "metadata": {
    "ExecuteTime": {
     "end_time": "2021-06-30T01:44:56.437536Z",
     "start_time": "2021-06-30T01:44:49.074333Z"
    }
   },
   "outputs": [
    {
     "name": "stdout",
     "output_type": "stream",
     "text": [
      "+---+----+-----+--------+\n",
      "| id|name|state|    date|\n",
      "+---+----+-----+--------+\n",
      "|001| Bob|    1|20210101|\n",
      "|001| Bob|    2|20210101|\n",
      "|001| Bob|    2|20210201|\n",
      "|002| Tom|    1|20210201|\n",
      "|002| Tom|    2|20210101|\n",
      "|002| Tom|    3|20210101|\n",
      "+---+----+-----+--------+\n",
      "\n"
     ]
    }
   ],
   "source": [
    "df = spark.createDataFrame(df_pd)\n",
    "df.show()"
   ]
  },
  {
   "cell_type": "markdown",
   "metadata": {},
   "source": [
    "## 统计每日不同状态比率"
   ]
  },
  {
   "cell_type": "markdown",
   "metadata": {},
   "source": [
    "### 最简单实现方法"
   ]
  },
  {
   "cell_type": "markdown",
   "metadata": {},
   "source": [
    "1. `F.countDistinct` 统计 `distinct` 值。\n",
    "1. `F.count` 统计计数\n",
    "1. `.alias` 取别名\n",
    "1. `.toPandas()`转换为Pandas"
   ]
  },
  {
   "cell_type": "code",
   "execution_count": 10,
   "metadata": {
    "scrolled": false
   },
   "outputs": [
    {
     "name": "stdout",
     "output_type": "stream",
     "text": [
      "+---+--------+------------------+\n",
      "| id|    date|     distinct_rate|\n",
      "+---+--------+------------------+\n",
      "|002|20210101|               1.0|\n",
      "|001|20210101|0.6666666666666666|\n",
      "+---+--------+------------------+\n",
      "\n"
     ]
    }
   ],
   "source": [
    "df.groupBy('id','date').agg(\n",
    "    (F.countDistinct('state') / F.count('state')).alias('distinct_rate')\n",
    ").show()"
   ]
  },
  {
   "cell_type": "code",
   "execution_count": 4,
   "metadata": {
    "ExecuteTime": {
     "end_time": "2021-06-30T01:51:30.402544Z",
     "start_time": "2021-06-30T01:51:19.335747Z"
    }
   },
   "outputs": [
    {
     "data": {
      "text/html": [
       "<div>\n",
       "<style scoped>\n",
       "    .dataframe tbody tr th:only-of-type {\n",
       "        vertical-align: middle;\n",
       "    }\n",
       "\n",
       "    .dataframe tbody tr th {\n",
       "        vertical-align: top;\n",
       "    }\n",
       "\n",
       "    .dataframe thead th {\n",
       "        text-align: right;\n",
       "    }\n",
       "</style>\n",
       "<table border=\"1\" class=\"dataframe\">\n",
       "  <thead>\n",
       "    <tr style=\"text-align: right;\">\n",
       "      <th></th>\n",
       "      <th>id</th>\n",
       "      <th>date</th>\n",
       "      <th>distinct_rate</th>\n",
       "    </tr>\n",
       "  </thead>\n",
       "  <tbody>\n",
       "    <tr>\n",
       "      <th>0</th>\n",
       "      <td>002</td>\n",
       "      <td>20210101</td>\n",
       "      <td>1.000000</td>\n",
       "    </tr>\n",
       "    <tr>\n",
       "      <th>1</th>\n",
       "      <td>001</td>\n",
       "      <td>20210101</td>\n",
       "      <td>0.666667</td>\n",
       "    </tr>\n",
       "  </tbody>\n",
       "</table>\n",
       "</div>"
      ],
      "text/plain": [
       "    id      date  distinct_rate\n",
       "0  002  20210101       1.000000\n",
       "1  001  20210101       0.666667"
      ]
     },
     "execution_count": 4,
     "metadata": {},
     "output_type": "execute_result"
    }
   ],
   "source": [
    "df.groupBy('id', 'date').agg(\n",
    "    (F.countDistinct('state') / F.count('state')).alias('distinct_rate')\n",
    ").toPandas()"
   ]
  },
  {
   "cell_type": "markdown",
   "metadata": {},
   "source": [
    "### 延伸"
   ]
  },
  {
   "cell_type": "markdown",
   "metadata": {},
   "source": [
    "1. `F.collect_list` 把组中全部数据聚合至 `list`\n",
    "1. `F.collect_set` 把组中全部数据聚合至 `set`\n",
    "1. `F.size` 统计可迭代对象（list、set）的长度"
   ]
  },
  {
   "cell_type": "code",
   "execution_count": 7,
   "metadata": {
    "scrolled": true
   },
   "outputs": [
    {
     "data": {
      "text/html": [
       "<div>\n",
       "<style scoped>\n",
       "    .dataframe tbody tr th:only-of-type {\n",
       "        vertical-align: middle;\n",
       "    }\n",
       "\n",
       "    .dataframe tbody tr th {\n",
       "        vertical-align: top;\n",
       "    }\n",
       "\n",
       "    .dataframe thead th {\n",
       "        text-align: right;\n",
       "    }\n",
       "</style>\n",
       "<table border=\"1\" class=\"dataframe\">\n",
       "  <thead>\n",
       "    <tr style=\"text-align: right;\">\n",
       "      <th></th>\n",
       "      <th>id</th>\n",
       "      <th>date</th>\n",
       "      <th>state_list</th>\n",
       "      <th>state_set</th>\n",
       "      <th>list_size</th>\n",
       "      <th>set_size</th>\n",
       "      <th>distinct_rate</th>\n",
       "    </tr>\n",
       "  </thead>\n",
       "  <tbody>\n",
       "    <tr>\n",
       "      <th>0</th>\n",
       "      <td>002</td>\n",
       "      <td>20210101</td>\n",
       "      <td>[1, 2, 3]</td>\n",
       "      <td>[1, 2, 3]</td>\n",
       "      <td>3</td>\n",
       "      <td>3</td>\n",
       "      <td>1.000000</td>\n",
       "    </tr>\n",
       "    <tr>\n",
       "      <th>1</th>\n",
       "      <td>001</td>\n",
       "      <td>20210101</td>\n",
       "      <td>[1, 2, 2]</td>\n",
       "      <td>[1, 2]</td>\n",
       "      <td>3</td>\n",
       "      <td>2</td>\n",
       "      <td>0.666667</td>\n",
       "    </tr>\n",
       "  </tbody>\n",
       "</table>\n",
       "</div>"
      ],
      "text/plain": [
       "    id      date state_list  state_set  list_size  set_size  distinct_rate\n",
       "0  002  20210101  [1, 2, 3]  [1, 2, 3]          3         3       1.000000\n",
       "1  001  20210101  [1, 2, 2]     [1, 2]          3         2       0.666667"
      ]
     },
     "execution_count": 7,
     "metadata": {},
     "output_type": "execute_result"
    }
   ],
   "source": [
    "df.groupBy('id','date').agg(\n",
    "    F.collect_list('state').alias('state_list'),   # 不去重，所有数据\n",
    "    F.collect_set('state').alias('state_set'),     # 去重\n",
    "    F.size(F.collect_list('state')).alias('list_size'), \n",
    "    F.size(F.collect_set('state')).alias('set_size'),  \n",
    "    (F.size(F.collect_set('state'))/F.size(F.collect_list('state'))).alias('distinct_rate'),\n",
    ").toPandas()"
   ]
  },
  {
   "cell_type": "markdown",
   "metadata": {},
   "source": [
    "## 基本聚合函数"
   ]
  },
  {
   "cell_type": "markdown",
   "metadata": {},
   "source": [
    "- `F.max`: 最大\n",
    "- `F.avg`: 平均\n",
    "- `F.min`: 最小\n",
    "- `F.sum`: 求和"
   ]
  },
  {
   "cell_type": "code",
   "execution_count": 17,
   "metadata": {
    "ExecuteTime": {
     "end_time": "2021-06-30T02:05:44.385611Z",
     "start_time": "2021-06-30T02:05:30.942562Z"
    }
   },
   "outputs": [
    {
     "data": {
      "text/html": [
       "<div>\n",
       "<style scoped>\n",
       "    .dataframe tbody tr th:only-of-type {\n",
       "        vertical-align: middle;\n",
       "    }\n",
       "\n",
       "    .dataframe tbody tr th {\n",
       "        vertical-align: top;\n",
       "    }\n",
       "\n",
       "    .dataframe thead th {\n",
       "        text-align: right;\n",
       "    }\n",
       "</style>\n",
       "<table border=\"1\" class=\"dataframe\">\n",
       "  <thead>\n",
       "    <tr style=\"text-align: right;\">\n",
       "      <th></th>\n",
       "      <th>id</th>\n",
       "      <th>date</th>\n",
       "      <th>max_state</th>\n",
       "      <th>avg_state</th>\n",
       "      <th>min_state</th>\n",
       "      <th>sum_state</th>\n",
       "    </tr>\n",
       "  </thead>\n",
       "  <tbody>\n",
       "    <tr>\n",
       "      <th>0</th>\n",
       "      <td>002</td>\n",
       "      <td>20210101</td>\n",
       "      <td>3</td>\n",
       "      <td>2.000000</td>\n",
       "      <td>1</td>\n",
       "      <td>6</td>\n",
       "    </tr>\n",
       "    <tr>\n",
       "      <th>1</th>\n",
       "      <td>001</td>\n",
       "      <td>20210101</td>\n",
       "      <td>2</td>\n",
       "      <td>1.666667</td>\n",
       "      <td>1</td>\n",
       "      <td>5</td>\n",
       "    </tr>\n",
       "  </tbody>\n",
       "</table>\n",
       "</div>"
      ],
      "text/plain": [
       "    id      date  max_state  avg_state  min_state  sum_state\n",
       "0  002  20210101          3   2.000000          1          6\n",
       "1  001  20210101          2   1.666667          1          5"
      ]
     },
     "execution_count": 17,
     "metadata": {},
     "output_type": "execute_result"
    }
   ],
   "source": [
    "df.groupBy('id', 'date').agg(\n",
    "    F.max('state').alias('max_state'),\n",
    "    F.avg('state').alias('avg_state'),  # 怎么约束小数点\n",
    "    F.min('state').alias('min_state'),\n",
    "    F.sum('state').alias('sum_state'),\n",
    ").toPandas()"
   ]
  },
  {
   "cell_type": "markdown",
   "metadata": {},
   "source": [
    "#### 以下未写完的东西，自己去查一下，然后补在这个文档中。"
   ]
  },
  {
   "cell_type": "code",
   "execution_count": null,
   "metadata": {},
   "outputs": [],
   "source": [
    "F.sumDistinct\n",
    "F.mean"
   ]
  },
  {
   "cell_type": "code",
   "execution_count": 14,
   "metadata": {},
   "outputs": [
    {
     "data": {
      "text/html": [
       "<div>\n",
       "<style scoped>\n",
       "    .dataframe tbody tr th:only-of-type {\n",
       "        vertical-align: middle;\n",
       "    }\n",
       "\n",
       "    .dataframe tbody tr th {\n",
       "        vertical-align: top;\n",
       "    }\n",
       "\n",
       "    .dataframe thead th {\n",
       "        text-align: right;\n",
       "    }\n",
       "</style>\n",
       "<table border=\"1\" class=\"dataframe\">\n",
       "  <thead>\n",
       "    <tr style=\"text-align: right;\">\n",
       "      <th></th>\n",
       "      <th>id</th>\n",
       "      <th>date</th>\n",
       "      <th>唯一的大坏蛋汇总</th>\n",
       "      <th>大坏蛋平均</th>\n",
       "    </tr>\n",
       "  </thead>\n",
       "  <tbody>\n",
       "    <tr>\n",
       "      <th>0</th>\n",
       "      <td>002</td>\n",
       "      <td>20210101</td>\n",
       "      <td>6</td>\n",
       "      <td>2.000000</td>\n",
       "    </tr>\n",
       "    <tr>\n",
       "      <th>1</th>\n",
       "      <td>001</td>\n",
       "      <td>20210101</td>\n",
       "      <td>3</td>\n",
       "      <td>1.666667</td>\n",
       "    </tr>\n",
       "  </tbody>\n",
       "</table>\n",
       "</div>"
      ],
      "text/plain": [
       "    id      date  唯一的大坏蛋汇总     大坏蛋平均\n",
       "0  002  20210101         6  2.000000\n",
       "1  001  20210101         3  1.666667"
      ]
     },
     "execution_count": 14,
     "metadata": {},
     "output_type": "execute_result"
    }
   ],
   "source": [
    "df.groupBy('id','date').agg(\n",
    "    F.sumDistinct('state').alias('唯一的大坏蛋汇总'),\n",
    "    F.mean('state').alias('大坏蛋平均'),\n",
    ").toPandas()"
   ]
  },
  {
   "cell_type": "markdown",
   "metadata": {},
   "source": [
    "### Avg和Mean的区别\n",
    "Mean Alias Avg."
   ]
  },
  {
   "cell_type": "markdown",
   "metadata": {},
   "source": [
    "## 粗略估计相关"
   ]
  },
  {
   "cell_type": "markdown",
   "metadata": {},
   "source": [
    "countApproxDistinct（rsd):该函数是用来计算去重后的值的大约个数。\n",
    "\n",
    "在进行sql优化时经常要统计某一列不同的值的个数，进而计算该列的选择性。但是在表体量很大，并且列上又没有索引时，count(distinct column)经常要花费很长的时间。pyspark提供了一个近似去重的新函数approx_count_distinct。这个函数的返回值是不准确的，不统计null值，但是胜在速度快。\n",
    "\n",
    " `rsd`： 该参数是用来规定值之间的相似度（精度值），值与值之间的相似度（精度）达到 rsd, 则将其看作是一样的值。**rsd越小说明值与值之间越相似**。控制在 0到0.4（不包括）之间。\n",
    "\n",
    "demo1:\n",
    "```python\n",
    "\n",
    "           val rdd1 = sc.parallelize(List(\"a\",\"b\",\"c\",\"d\",\"e\",\"a\"),2)\n",
    "\n",
    "           rdd1.countApproxDistinct(rsd=0.1) 输出结果为：Long = 5。\n",
    "\n",
    "          \n",
    "\n",
    "demo2：\n",
    "\n",
    "                 val a = sc.parallelize(0 to 10000,20)\n",
    "\n",
    "                 a.countApproxDistinct(rsd=0.1);  输出结果为：Long = 8224\n",
    "\n",
    "                 a.countApproxDistinct(rsd=0.2);  输出结果为：Long = 10249\n",
    "\n",
    "                 a.countApproxDistinct(rsd=0.3);  输出结果为： Long = 9618\n",
    "\n",
    "                 a.countApproxDistinct(rsd=0.01);  输出结果为： Long = 9947\n",
    "\n",
    "                 a.countApproxDistinct(rsd=0.001);  输出结果为： Long = 10001\n",
    "```"
   ]
  },
  {
   "cell_type": "code",
   "execution_count": 23,
   "metadata": {},
   "outputs": [
    {
     "data": {
      "text/html": [
       "<div>\n",
       "<style scoped>\n",
       "    .dataframe tbody tr th:only-of-type {\n",
       "        vertical-align: middle;\n",
       "    }\n",
       "\n",
       "    .dataframe tbody tr th {\n",
       "        vertical-align: top;\n",
       "    }\n",
       "\n",
       "    .dataframe thead th {\n",
       "        text-align: right;\n",
       "    }\n",
       "</style>\n",
       "<table border=\"1\" class=\"dataframe\">\n",
       "  <thead>\n",
       "    <tr style=\"text-align: right;\">\n",
       "      <th></th>\n",
       "      <th>id</th>\n",
       "      <th>date</th>\n",
       "      <th>粗略统计唯一的大坏蛋个数</th>\n",
       "    </tr>\n",
       "  </thead>\n",
       "  <tbody>\n",
       "    <tr>\n",
       "      <th>0</th>\n",
       "      <td>002</td>\n",
       "      <td>20210101</td>\n",
       "      <td>3</td>\n",
       "    </tr>\n",
       "    <tr>\n",
       "      <th>1</th>\n",
       "      <td>001</td>\n",
       "      <td>20210101</td>\n",
       "      <td>2</td>\n",
       "    </tr>\n",
       "  </tbody>\n",
       "</table>\n",
       "</div>"
      ],
      "text/plain": [
       "    id      date  粗略统计唯一的大坏蛋个数\n",
       "0  002  20210101             3\n",
       "1  001  20210101             2"
      ]
     },
     "execution_count": 23,
     "metadata": {},
     "output_type": "execute_result"
    }
   ],
   "source": [
    "df.groupBy('id','date').agg(\n",
    "    F.approxCountDistinct('state',rsd=0.1).alias('粗略统计唯一的大坏蛋个数'),\n",
    ").toPandas()"
   ]
  },
  {
   "cell_type": "code",
   "execution_count": 25,
   "metadata": {},
   "outputs": [
    {
     "data": {
      "text/html": [
       "<div>\n",
       "<style scoped>\n",
       "    .dataframe tbody tr th:only-of-type {\n",
       "        vertical-align: middle;\n",
       "    }\n",
       "\n",
       "    .dataframe tbody tr th {\n",
       "        vertical-align: top;\n",
       "    }\n",
       "\n",
       "    .dataframe thead th {\n",
       "        text-align: right;\n",
       "    }\n",
       "</style>\n",
       "<table border=\"1\" class=\"dataframe\">\n",
       "  <thead>\n",
       "    <tr style=\"text-align: right;\">\n",
       "      <th></th>\n",
       "      <th>id</th>\n",
       "      <th>date</th>\n",
       "      <th>精确统计唯一的大坏蛋个数</th>\n",
       "    </tr>\n",
       "  </thead>\n",
       "  <tbody>\n",
       "    <tr>\n",
       "      <th>0</th>\n",
       "      <td>002</td>\n",
       "      <td>20210101</td>\n",
       "      <td>3</td>\n",
       "    </tr>\n",
       "    <tr>\n",
       "      <th>1</th>\n",
       "      <td>001</td>\n",
       "      <td>20210101</td>\n",
       "      <td>2</td>\n",
       "    </tr>\n",
       "  </tbody>\n",
       "</table>\n",
       "</div>"
      ],
      "text/plain": [
       "    id      date  精确统计唯一的大坏蛋个数\n",
       "0  002  20210101             3\n",
       "1  001  20210101             2"
      ]
     },
     "execution_count": 25,
     "metadata": {},
     "output_type": "execute_result"
    }
   ],
   "source": [
    "df.groupBy('id','date').agg(\n",
    "    F.countDistinct('state').alias('精确统计唯一的大坏蛋个数')\n",
    ").toPandas()"
   ]
  },
  {
   "cell_type": "markdown",
   "metadata": {},
   "source": [
    "## 正则匹配相关"
   ]
  },
  {
   "cell_type": "markdown",
   "metadata": {},
   "source": [
    "F.regexp_extract\n",
    "\n",
    "从指定的字符串列中提取与 Java 正则表达式匹配的特定组。如果正则表达式不匹配，或指定的组不匹配，则返回空字符串。"
   ]
  },
  {
   "cell_type": "code",
   "execution_count": 28,
   "metadata": {},
   "outputs": [
    {
     "name": "stdout",
     "output_type": "stream",
     "text": [
      "+-------+\n",
      "|    str|\n",
      "+-------+\n",
      "|100-200|\n",
      "+-------+\n",
      "\n"
     ]
    },
    {
     "data": {
      "text/plain": [
       "[Row(d='100')]"
      ]
     },
     "execution_count": 28,
     "metadata": {},
     "output_type": "execute_result"
    }
   ],
   "source": [
    "df = spark.createDataFrame([('100-200',)], ['str'])\n",
    "df.show()\n",
    "df.select(F.regexp_extract('str', r'(\\d+)-(\\d+)', 1).alias('d')).collect()"
   ]
  },
  {
   "cell_type": "code",
   "execution_count": 35,
   "metadata": {},
   "outputs": [
    {
     "name": "stdout",
     "output_type": "stream",
     "text": [
      "+---+------------------+-----+\n",
      "| id|           address|state|\n",
      "+---+------------------+-----+\n",
      "|  1|  14851 Jeffrey Rd|   DE|\n",
      "|  2|43421 Margarita St|   NY|\n",
      "|  3|  13111 Siemon Ave|   CA|\n",
      "+---+------------------+-----+\n",
      "\n"
     ]
    }
   ],
   "source": [
    "spark = SparkSession.builder.master(\"local[1]\").appName(\"SparkByExamples.com\").getOrCreate()\n",
    "address = [(1,\"14851 Jeffrey Rd\",\"DE\"),\n",
    "    (2,\"43421 Margarita St\",\"NY\"),\n",
    "    (3,\"13111 Siemon Ave\",\"CA\")]\n",
    "dfreg =spark.createDataFrame(address,[\"id\",\"address\",\"state\"])\n",
    "dfreg.show()"
   ]
  },
  {
   "cell_type": "markdown",
   "metadata": {},
   "source": [
    "您可以将列值替换为另一个字符串/子字符串的字符串。`regexp_replace()`使用Java 正则表达式进行匹配，如果正则表达式不匹配则返回空字符串.          \n",
    "下面的示例将街道名称Rd值替换为列上的Road字符串address。"
   ]
  },
  {
   "cell_type": "code",
   "execution_count": 36,
   "metadata": {},
   "outputs": [
    {
     "name": "stdout",
     "output_type": "stream",
     "text": [
      "+---+------------------+-----+\n",
      "|id |address           |state|\n",
      "+---+------------------+-----+\n",
      "|1  |14851 Jeffrey Road|DE   |\n",
      "|2  |43421 Margarita St|NY   |\n",
      "|3  |13111 Siemon Ave  |CA   |\n",
      "+---+------------------+-----+\n",
      "\n"
     ]
    }
   ],
   "source": [
    "dfreg.withColumn('address', F.regexp_replace('address', 'Rd', 'Road')).show(truncate=False)"
   ]
  },
  {
   "cell_type": "code",
   "execution_count": 46,
   "metadata": {},
   "outputs": [
    {
     "data": {
      "text/plain": [
       "[]"
      ]
     },
     "execution_count": 46,
     "metadata": {},
     "output_type": "execute_result"
    }
   ],
   "source": [
    "dfreg.filter(dfreg.address.rlike('14$')).collect()"
   ]
  },
  {
   "cell_type": "code",
   "execution_count": null,
   "metadata": {},
   "outputs": [],
   "source": [
    "F.col('').rlike ##不会\n",
    "F.regexp_extract\n",
    "F.regexp_replace"
   ]
  },
  {
   "cell_type": "markdown",
   "metadata": {},
   "source": [
    "## 时间相关"
   ]
  },
  {
   "cell_type": "markdown",
   "metadata": {},
   "source": [
    "```python\n",
    "df.withColumn('test', F.date_format(col('Last_Update'),\"yyyy/MM/dd\")).show()\n",
    "\n",
    "df.withColumn('date', F.date_format(col('Last_Update'),\"yyyy-MM-dd\").alias('ts').cast(\"date\"))\n",
    "\n",
    "# 把 timestamp 秒数（从1970年开始）转成日期格式 string\n",
    "F.from_unixtime()\n",
    "\n",
    "# unix_timestamp 把 日期 String 转换成 timestamp 秒数，是上面操作的反操作\n",
    "F.unix_timestamp()\n",
    "df1 = df.withColumn(\"unix_timestamp\",F.unix_timestamp(df.TIME,'dd-MMM-yyyy HH:mm:ss.SSS z') + F.substring(df.TIME,-7,3).cast('float')/1000)\n",
    "\n",
    "# timestamp 秒数转换成 timestamp type, 可以用 F.to_timestamp\n",
    "```"
   ]
  },
  {
   "cell_type": "code",
   "execution_count": null,
   "metadata": {},
   "outputs": [],
   "source": [
    "F.date_add| F.date_sub\n",
    "F.add_months\n",
    "F.date_format\n",
    "F.datediff\n",
    "F.dayofmonth  # 取月份中的一天\n",
    "F.dayofweek   # 取一周中的一天\n",
    "F.dayofyear   # 取一年中的一天"
   ]
  },
  {
   "cell_type": "code",
   "execution_count": 138,
   "metadata": {},
   "outputs": [],
   "source": [
    "df2 = df.withColumn(\"Date\", F.when(df.date == '20210101','2020-01-01')\n",
    "                              .when(df.date == '20210201','2020-06-01')\n",
    "                                 .otherwise(df.date))"
   ]
  },
  {
   "cell_type": "code",
   "execution_count": 139,
   "metadata": {},
   "outputs": [
    {
     "name": "stdout",
     "output_type": "stream",
     "text": [
      "+---+----+-----+----------+\n",
      "| id|name|state|      Date|\n",
      "+---+----+-----+----------+\n",
      "|001| Bob|    1|2020-01-01|\n",
      "|001| Bob|    2|2020-01-01|\n",
      "|001| Bob|    2|2020-06-01|\n",
      "|002| Tom|    1|2020-06-01|\n",
      "|002| Tom|    2|2020-01-01|\n",
      "|002| Tom|    3|2020-01-01|\n",
      "+---+----+-----+----------+\n",
      "\n"
     ]
    }
   ],
   "source": [
    "df2.show()"
   ]
  },
  {
   "cell_type": "code",
   "execution_count": 176,
   "metadata": {},
   "outputs": [
    {
     "name": "stdout",
     "output_type": "stream",
     "text": [
      "+---+----+-----+----------+\n",
      "| id|name|state|      Date|\n",
      "+---+----+-----+----------+\n",
      "|001| Bob|    1|2020-01-08|\n",
      "|001| Bob|    2|2020-01-08|\n",
      "|001| Bob|    2|2020-06-08|\n",
      "|002| Tom|    1|2020-06-08|\n",
      "|002| Tom|    2|2020-01-08|\n",
      "|002| Tom|    3|2020-01-08|\n",
      "+---+----+-----+----------+\n",
      "\n",
      "+----------+\n",
      "|dateformat|\n",
      "+----------+\n",
      "|2020 01 01|\n",
      "|2020 01 01|\n",
      "|2020 06 01|\n",
      "|2020 06 01|\n",
      "|2020 01 01|\n",
      "|2020 01 01|\n",
      "+----------+\n",
      "\n",
      "+----------+\n",
      "|    纪念日|\n",
      "+----------+\n",
      "|2020-06-08|\n",
      "|2020-06-08|\n",
      "|2020-06-08|\n",
      "|2020-06-08|\n",
      "|2020-06-08|\n",
      "|2020-06-08|\n",
      "+----------+\n",
      "\n"
     ]
    },
    {
     "data": {
      "text/html": [
       "<div>\n",
       "<style scoped>\n",
       "    .dataframe tbody tr th:only-of-type {\n",
       "        vertical-align: middle;\n",
       "    }\n",
       "\n",
       "    .dataframe tbody tr th {\n",
       "        vertical-align: top;\n",
       "    }\n",
       "\n",
       "    .dataframe thead th {\n",
       "        text-align: right;\n",
       "    }\n",
       "</style>\n",
       "<table border=\"1\" class=\"dataframe\">\n",
       "  <thead>\n",
       "    <tr style=\"text-align: right;\">\n",
       "      <th></th>\n",
       "      <th>纪念日</th>\n",
       "      <th>当前时间</th>\n",
       "      <th>在一起的时间</th>\n",
       "    </tr>\n",
       "  </thead>\n",
       "  <tbody>\n",
       "    <tr>\n",
       "      <th>0</th>\n",
       "      <td>2020-06-08</td>\n",
       "      <td>2021-06-30</td>\n",
       "      <td>387</td>\n",
       "    </tr>\n",
       "    <tr>\n",
       "      <th>1</th>\n",
       "      <td>2020-06-08</td>\n",
       "      <td>2021-06-30</td>\n",
       "      <td>387</td>\n",
       "    </tr>\n",
       "    <tr>\n",
       "      <th>2</th>\n",
       "      <td>2020-06-08</td>\n",
       "      <td>2021-06-30</td>\n",
       "      <td>387</td>\n",
       "    </tr>\n",
       "    <tr>\n",
       "      <th>3</th>\n",
       "      <td>2020-06-08</td>\n",
       "      <td>2021-06-30</td>\n",
       "      <td>387</td>\n",
       "    </tr>\n",
       "    <tr>\n",
       "      <th>4</th>\n",
       "      <td>2020-06-08</td>\n",
       "      <td>2021-06-30</td>\n",
       "      <td>387</td>\n",
       "    </tr>\n",
       "    <tr>\n",
       "      <th>5</th>\n",
       "      <td>2020-06-08</td>\n",
       "      <td>2021-06-30</td>\n",
       "      <td>387</td>\n",
       "    </tr>\n",
       "  </tbody>\n",
       "</table>\n",
       "</div>"
      ],
      "text/plain": [
       "          纪念日        当前时间  在一起的时间\n",
       "0  2020-06-08  2021-06-30     387\n",
       "1  2020-06-08  2021-06-30     387\n",
       "2  2020-06-08  2021-06-30     387\n",
       "3  2020-06-08  2021-06-30     387\n",
       "4  2020-06-08  2021-06-30     387\n",
       "5  2020-06-08  2021-06-30     387"
      ]
     },
     "execution_count": 176,
     "metadata": {},
     "output_type": "execute_result"
    }
   ],
   "source": [
    "# 加天数\n",
    "df3 = df2.withColumn('Date',F.date_add(df2.Date, 7))\n",
    "df3.show()\n",
    "\n",
    "# 转换格式\n",
    "df2.select(F.date_format('date','yyyy MM dd').alias('dateformat')).show()\n",
    "\n",
    "# 加月份(统一加到20200608)\n",
    "anniversary = df3.select(F.when(df3.Date == '2020-01-08', F.add_months(df3.Date,5))\n",
    "                         .otherwise(df3.Date)\n",
    "                         .alias('纪念日'))\n",
    "anniversary.show()\n",
    "\n",
    "\n",
    "# 计算相隔天数\n",
    "anniversary.select(\"纪念日\",\n",
    "                   F.current_date().alias('当前时间'),\n",
    "                   F.datediff(F.current_date(),anniversary[\"纪念日\"])\n",
    "                   .alias('在一起的时间')).show()\n",
    "\n",
    "\n"
   ]
  },
  {
   "cell_type": "markdown",
   "metadata": {},
   "source": [
    "## 选取位置"
   ]
  },
  {
   "cell_type": "code",
   "execution_count": null,
   "metadata": {},
   "outputs": [],
   "source": [
    "F.first\n",
    "F.last"
   ]
  },
  {
   "cell_type": "code",
   "execution_count": 75,
   "metadata": {},
   "outputs": [
    {
     "data": {
      "text/html": [
       "<div>\n",
       "<style scoped>\n",
       "    .dataframe tbody tr th:only-of-type {\n",
       "        vertical-align: middle;\n",
       "    }\n",
       "\n",
       "    .dataframe tbody tr th {\n",
       "        vertical-align: top;\n",
       "    }\n",
       "\n",
       "    .dataframe thead th {\n",
       "        text-align: right;\n",
       "    }\n",
       "</style>\n",
       "<table border=\"1\" class=\"dataframe\">\n",
       "  <thead>\n",
       "    <tr style=\"text-align: right;\">\n",
       "      <th></th>\n",
       "      <th>id</th>\n",
       "      <th>date</th>\n",
       "      <th>第一个大坏蛋</th>\n",
       "      <th>最后一个大坏蛋</th>\n",
       "    </tr>\n",
       "  </thead>\n",
       "  <tbody>\n",
       "    <tr>\n",
       "      <th>0</th>\n",
       "      <td>002</td>\n",
       "      <td>20210101</td>\n",
       "      <td>1</td>\n",
       "      <td>3</td>\n",
       "    </tr>\n",
       "    <tr>\n",
       "      <th>1</th>\n",
       "      <td>001</td>\n",
       "      <td>20210101</td>\n",
       "      <td>1</td>\n",
       "      <td>2</td>\n",
       "    </tr>\n",
       "  </tbody>\n",
       "</table>\n",
       "</div>"
      ],
      "text/plain": [
       "    id      date  第一个大坏蛋  最后一个大坏蛋\n",
       "0  002  20210101       1        3\n",
       "1  001  20210101       1        2"
      ]
     },
     "execution_count": 75,
     "metadata": {},
     "output_type": "execute_result"
    }
   ],
   "source": [
    "df.groupBy('id','date').agg(\n",
    "    F.first('state').alias('第一个大坏蛋'),\n",
    "    F.last('state').alias('最后一个大坏蛋')\n",
    ").toPandas()"
   ]
  },
  {
   "cell_type": "markdown",
   "metadata": {},
   "source": [
    "## 统计量"
   ]
  },
  {
   "cell_type": "code",
   "execution_count": null,
   "metadata": {},
   "outputs": [],
   "source": [
    "F.kurtosis\n",
    "F.skewness\n",
    "F.variance\n",
    "F.var_pop\n",
    "F.var_samp\n",
    "F.stddev\n",
    "F.stddev_pop\n",
    "F.stddev_samp"
   ]
  },
  {
   "cell_type": "code",
   "execution_count": 77,
   "metadata": {},
   "outputs": [
    {
     "data": {
      "text/html": [
       "<div>\n",
       "<style scoped>\n",
       "    .dataframe tbody tr th:only-of-type {\n",
       "        vertical-align: middle;\n",
       "    }\n",
       "\n",
       "    .dataframe tbody tr th {\n",
       "        vertical-align: top;\n",
       "    }\n",
       "\n",
       "    .dataframe thead th {\n",
       "        text-align: right;\n",
       "    }\n",
       "</style>\n",
       "<table border=\"1\" class=\"dataframe\">\n",
       "  <thead>\n",
       "    <tr style=\"text-align: right;\">\n",
       "      <th></th>\n",
       "      <th>id</th>\n",
       "      <th>date</th>\n",
       "      <th>峰度</th>\n",
       "      <th>偏度</th>\n",
       "      <th>方差</th>\n",
       "      <th>总体方差</th>\n",
       "      <th>样本方差</th>\n",
       "      <th>方差标准差</th>\n",
       "      <th>总体标准差</th>\n",
       "      <th>样本标准差</th>\n",
       "    </tr>\n",
       "  </thead>\n",
       "  <tbody>\n",
       "    <tr>\n",
       "      <th>0</th>\n",
       "      <td>002</td>\n",
       "      <td>20210101</td>\n",
       "      <td>-1.5</td>\n",
       "      <td>0.000000</td>\n",
       "      <td>1.000000</td>\n",
       "      <td>0.666667</td>\n",
       "      <td>1.000000</td>\n",
       "      <td>1.00000</td>\n",
       "      <td>0.816497</td>\n",
       "      <td>1.00000</td>\n",
       "    </tr>\n",
       "    <tr>\n",
       "      <th>1</th>\n",
       "      <td>001</td>\n",
       "      <td>20210101</td>\n",
       "      <td>-1.5</td>\n",
       "      <td>-0.707107</td>\n",
       "      <td>0.333333</td>\n",
       "      <td>0.222222</td>\n",
       "      <td>0.333333</td>\n",
       "      <td>0.57735</td>\n",
       "      <td>0.471405</td>\n",
       "      <td>0.57735</td>\n",
       "    </tr>\n",
       "  </tbody>\n",
       "</table>\n",
       "</div>"
      ],
      "text/plain": [
       "    id      date   峰度        偏度        方差      总体方差      样本方差    方差标准差  \\\n",
       "0  002  20210101 -1.5  0.000000  1.000000  0.666667  1.000000  1.00000   \n",
       "1  001  20210101 -1.5 -0.707107  0.333333  0.222222  0.333333  0.57735   \n",
       "\n",
       "      总体标准差    样本标准差  \n",
       "0  0.816497  1.00000  \n",
       "1  0.471405  0.57735  "
      ]
     },
     "execution_count": 77,
     "metadata": {},
     "output_type": "execute_result"
    }
   ],
   "source": [
    "df.groupBy('id','date').agg(\n",
    "    F.kurtosis('state').alias('峰度'),\n",
    "    F.skewness('state').alias('偏度'),\n",
    "    F.variance('state').alias('方差'),\n",
    "    F.var_pop('state').alias('总体方差'),\n",
    "    F.var_samp('state').alias('样本方差'),\n",
    "    F.stddev('state').alias('方差标准差'),\n",
    "    F.stddev_pop('state').alias('总体标准差'),\n",
    "    F.stddev_samp('state').alias('样本标准差')\n",
    ").toPandas()"
   ]
  },
  {
   "cell_type": "markdown",
   "metadata": {},
   "source": [
    "# 进阶"
   ]
  },
  {
   "cell_type": "markdown",
   "metadata": {},
   "source": [
    "## When"
   ]
  },
  {
   "cell_type": "markdown",
   "metadata": {},
   "source": [
    "PySpark 支持按顺序检查多个条件并在第一个条件满足时返回值的方法，例如使用SQL 的 `case when`和`when().otherwise()`表达式，这些工作类似于`Switch`和`if then else`语句。"
   ]
  },
  {
   "cell_type": "code",
   "execution_count": null,
   "metadata": {},
   "outputs": [],
   "source": [
    "F.when().when().otherwise()"
   ]
  },
  {
   "cell_type": "code",
   "execution_count": 96,
   "metadata": {},
   "outputs": [],
   "source": [
    "df2 = df.withColumn(\"Date\", F.when(df.date == '20210101','2020-01-01')\n",
    "                                 .otherwise(df.date))"
   ]
  },
  {
   "cell_type": "code",
   "execution_count": 99,
   "metadata": {},
   "outputs": [
    {
     "name": "stdout",
     "output_type": "stream",
     "text": [
      "+---+----+-----+----------+\n",
      "| id|name|state|      Date|\n",
      "+---+----+-----+----------+\n",
      "|001| Bob|    1|2020-01-01|\n",
      "|001| Bob|    2|2020-01-01|\n",
      "|001| Bob|    2|2020-01-01|\n",
      "|002| Tom|    1|2020-01-01|\n",
      "|002| Tom|    2|2020-01-01|\n",
      "|002| Tom|    3|2020-01-01|\n",
      "+---+----+-----+----------+\n",
      "\n"
     ]
    }
   ],
   "source": [
    "df2.show()"
   ]
  },
  {
   "cell_type": "code",
   "execution_count": 100,
   "metadata": {},
   "outputs": [
    {
     "data": {
      "text/plain": [
       "[Row(next_date=datetime.date(2020, 1, 2)),\n",
       " Row(next_date=datetime.date(2020, 1, 2)),\n",
       " Row(next_date=datetime.date(2020, 1, 2)),\n",
       " Row(next_date=datetime.date(2020, 1, 2)),\n",
       " Row(next_date=datetime.date(2020, 1, 2)),\n",
       " Row(next_date=datetime.date(2020, 1, 2))]"
      ]
     },
     "execution_count": 100,
     "metadata": {},
     "output_type": "execute_result"
    }
   ],
   "source": [
    "df2.select(F.date_add(df2.Date, 1).alias('next_date')).collect()"
   ]
  },
  {
   "cell_type": "markdown",
   "metadata": {},
   "source": [
    "---"
   ]
  }
 ],
 "metadata": {
  "kernelspec": {
   "display_name": "Python 3",
   "language": "python",
   "name": "python3"
  },
  "language_info": {
   "codemirror_mode": {
    "name": "ipython",
    "version": 3
   },
   "file_extension": ".py",
   "mimetype": "text/x-python",
   "name": "python",
   "nbconvert_exporter": "python",
   "pygments_lexer": "ipython3",
   "version": "3.8.8"
  },
  "nbTranslate": {
   "displayLangs": [
    "*"
   ],
   "hotkey": "alt-t",
   "langInMainMenu": true,
   "sourceLang": "en",
   "targetLang": "fr",
   "useGoogleTranslate": true
  },
  "toc": {
   "base_numbering": 1,
   "nav_menu": {},
   "number_sections": true,
   "sideBar": true,
   "skip_h1_title": false,
   "title_cell": "Table of Contents",
   "title_sidebar": "Contents",
   "toc_cell": false,
   "toc_position": {},
   "toc_section_display": true,
   "toc_window_display": true
  }
 },
 "nbformat": 4,
 "nbformat_minor": 4
}
