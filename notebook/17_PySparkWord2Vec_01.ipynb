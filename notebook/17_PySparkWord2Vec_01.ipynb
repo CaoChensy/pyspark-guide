{
 "cells": [
  {
   "cell_type": "markdown",
   "id": "0a26df97",
   "metadata": {},
   "source": [
    "# PySpark NLP - 豆瓣评论分类预测"
   ]
  },
  {
   "cell_type": "markdown",
   "id": "f6e50f5a",
   "metadata": {},
   "source": [
    "本文，首先训依据`Word2Vec`练不同维度的词向量，使用随机森林模型比较不同维度，不同树的数量，不同深度对于模型效果的影响。\n",
    "\n",
    "> 预测目标：依据豆瓣影评，预测电影评分[1-5]分。"
   ]
  },
  {
   "cell_type": "markdown",
   "id": "40a0ef9e",
   "metadata": {},
   "source": [
    "## 1. 引入数据"
   ]
  },
  {
   "cell_type": "code",
   "execution_count": 40,
   "id": "24a63b15",
   "metadata": {},
   "outputs": [],
   "source": [
    "import os\n",
    "import jieba\n",
    "from tqdm import tqdm_notebook\n",
    "from pyspark.sql.types import *\n",
    "from pyspark.sql import functions as F\n",
    "from pyspark.ml.feature import Word2Vec, Word2VecModel\n",
    "from pyspark.ml.classification import RandomForestClassifier\n",
    "from pyspark.ml.evaluation import MulticlassClassificationEvaluator"
   ]
  },
  {
   "cell_type": "code",
   "execution_count": 44,
   "id": "99beddf4",
   "metadata": {},
   "outputs": [],
   "source": [
    "# 分词函数\n",
    "@F.udf(returnType=ArrayType(StringType()))\n",
    "def jiebaCut(x):\n",
    "    return [w for w in jieba.cut(x) if len(w)>1]"
   ]
  },
  {
   "cell_type": "code",
   "execution_count": 3,
   "id": "8dd2cc55",
   "metadata": {},
   "outputs": [],
   "source": [
    "df = spark.read.csv(f'C:/Users/chensy/Downloads/archive/DMSC.csv', header=True)\n",
    "# 剔除缺失数据，并且只取1万条数据\n",
    "df = df.dropna().limit(int(1e4))\n",
    "df = df.withColumn('words', jiebaCut(df['Comment']))"
   ]
  },
  {
   "cell_type": "markdown",
   "id": "18603a06",
   "metadata": {},
   "source": [
    "## 2. 计算多个不同维度的词向量"
   ]
  },
  {
   "cell_type": "code",
   "execution_count": null,
   "id": "e9034683",
   "metadata": {},
   "outputs": [],
   "source": [
    "vec_size = [8, 16, 32, 64, 128]\n",
    "\n",
    "for vectorSize in tqdm_notebook(vec_size):\n",
    "    model_path = f\"./temp_data/word2vec{vectorSize}\"\n",
    "    if not os.path.exists(model_path):\n",
    "        # 读取 kaggle 豆瓣评价数据\n",
    "        df = spark.read.csv(f'C:/Users/chensy/Downloads/archive/DMSC.csv', header=True)\n",
    "        # 剔除缺失数据\n",
    "        df = df.dropna()\n",
    "        # 对评论进行分词处理\n",
    "        df = df.withColumn('words', jiebaCut(df['Comment']))\n",
    "        model = Word2Vec(\n",
    "            vectorSize=vectorSize, minCount=2, numPartitions=8, maxIter=32,\n",
    "            seed=42, inputCol='words', outputCol='vecs').fit(df)\n",
    "        # 保存模型\n",
    "        model.write().overwrite().save(model_path)"
   ]
  },
  {
   "cell_type": "markdown",
   "id": "a42ab03b",
   "metadata": {},
   "source": [
    "## 3. 选择最优的词向量长度"
   ]
  },
  {
   "cell_type": "code",
   "execution_count": 28,
   "id": "663a515c",
   "metadata": {
    "scrolled": false
   },
   "outputs": [
    {
     "name": "stderr",
     "output_type": "stream",
     "text": [
      "C:\\Users\\chensy\\AppData\\Roaming\\Python\\Python37\\site-packages\\ipykernel_launcher.py:3: TqdmDeprecationWarning: This function will be removed in tqdm==5.0.0\n",
      "Please use `tqdm.notebook.tqdm` instead of `tqdm.tqdm_notebook`\n",
      "  This is separate from the ipykernel package so we can avoid doing imports until\n"
     ]
    },
    {
     "data": {
      "application/vnd.jupyter.widget-view+json": {
       "model_id": "5d195337af82493983396b82882b4ef8",
       "version_major": 2,
       "version_minor": 0
      },
      "text/html": [
       "<p>Failed to display Jupyter Widget of type <code>TqdmHBox</code>.</p>\n",
       "<p>\n",
       "  If you're reading this message in the Jupyter Notebook or JupyterLab Notebook, it may mean\n",
       "  that the widgets JavaScript is still loading. If this message persists, it\n",
       "  likely means that the widgets JavaScript library is either not installed or\n",
       "  not enabled. See the <a href=\"https://ipywidgets.readthedocs.io/en/stable/user_install.html\">Jupyter\n",
       "  Widgets Documentation</a> for setup instructions.\n",
       "</p>\n",
       "<p>\n",
       "  If you're reading this message in another frontend (for example, a static\n",
       "  rendering on GitHub or <a href=\"https://nbviewer.jupyter.org/\">NBViewer</a>),\n",
       "  it may mean that your frontend doesn't currently support widgets.\n",
       "</p>\n"
      ],
      "text/plain": [
       "  0%|          | 0/5 [00:00<?, ?it/s]"
      ]
     },
     "metadata": {},
     "output_type": "display_data"
    },
    {
     "name": "stdout",
     "output_type": "stream",
     "text": [
      "vector size: 8 accuracy = 0.4660\n",
      "vector size: 16 accuracy = 0.4970\n",
      "vector size: 32 accuracy = 0.5068\n",
      "vector size: 64 accuracy = 0.5096\n",
      "vector size: 128 accuracy = 0.5100\n"
     ]
    }
   ],
   "source": [
    "vec_size = [8, 16, 32, 64, 128]\n",
    "\n",
    "for vectorSize in tqdm_notebook(vec_size):\n",
    "    model_path = f\"./temp_data/word2vec{vectorSize}\"\n",
    "    # 读取模型\n",
    "    model = Word2VecModel.load(model_path)\n",
    "    df_trans = model.transform(df).select('vecs', F.col('Star').cast(IntegerType()))\n",
    "\n",
    "    rf = RandomForestClassifier(\n",
    "        featuresCol='vecs', labelCol=\"Star\",\n",
    "        numTrees=3, maxDepth=8,  seed=42)\n",
    "\n",
    "    model = rf.fit(df_trans)\n",
    "    predictions = model.transform(df_trans)\n",
    "\n",
    "    evaluator = MulticlassClassificationEvaluator(labelCol=\"Star\", predictionCol=\"prediction\")\n",
    "    accuracy = evaluator.evaluate(predictions)\n",
    "    print(f\"vector size: {vectorSize} accuracy = {accuracy:.4f}\")"
   ]
  },
  {
   "cell_type": "markdown",
   "id": "40c8edf5",
   "metadata": {},
   "source": [
    "> 精度最高的词向量长度为128，也许词向量维度更多模型的效果也会越好。"
   ]
  },
  {
   "cell_type": "markdown",
   "id": "9085d6f8",
   "metadata": {},
   "source": [
    "## 4. 选择随机森林树的个数"
   ]
  },
  {
   "cell_type": "code",
   "execution_count": 36,
   "id": "94369b9d",
   "metadata": {},
   "outputs": [
    {
     "name": "stderr",
     "output_type": "stream",
     "text": [
      "C:\\Users\\chensy\\AppData\\Roaming\\Python\\Python37\\site-packages\\ipykernel_launcher.py:7: TqdmDeprecationWarning: This function will be removed in tqdm==5.0.0\n",
      "Please use `tqdm.notebook.tqdm` instead of `tqdm.tqdm_notebook`\n",
      "  import sys\n"
     ]
    },
    {
     "data": {
      "application/vnd.jupyter.widget-view+json": {
       "model_id": "620f0a6791be4fbb867e74f7cc2ba383",
       "version_major": 2,
       "version_minor": 0
      },
      "text/html": [
       "<p>Failed to display Jupyter Widget of type <code>TqdmHBox</code>.</p>\n",
       "<p>\n",
       "  If you're reading this message in the Jupyter Notebook or JupyterLab Notebook, it may mean\n",
       "  that the widgets JavaScript is still loading. If this message persists, it\n",
       "  likely means that the widgets JavaScript library is either not installed or\n",
       "  not enabled. See the <a href=\"https://ipywidgets.readthedocs.io/en/stable/user_install.html\">Jupyter\n",
       "  Widgets Documentation</a> for setup instructions.\n",
       "</p>\n",
       "<p>\n",
       "  If you're reading this message in another frontend (for example, a static\n",
       "  rendering on GitHub or <a href=\"https://nbviewer.jupyter.org/\">NBViewer</a>),\n",
       "  it may mean that your frontend doesn't currently support widgets.\n",
       "</p>\n"
      ],
      "text/plain": [
       "  0%|          | 0/4 [00:00<?, ?it/s]"
      ]
     },
     "metadata": {},
     "output_type": "display_data"
    },
    {
     "name": "stdout",
     "output_type": "stream",
     "text": [
      "num trees: 2 accuracy = 0.5133\n",
      "num trees: 4 accuracy = 0.5250\n",
      "num trees: 8 accuracy = 0.5059\n",
      "num trees: 16 accuracy = 0.4896\n"
     ]
    }
   ],
   "source": [
    "model_path = f\"./temp_data/word2vec128\"\n",
    "# 读取模型\n",
    "model = Word2VecModel.load(model_path)\n",
    "df_trans = model.transform(df).select('vecs', F.col('Star').cast(IntegerType()))\n",
    "\n",
    "num_trees = [2, 4, 8, 16]\n",
    "for numTrees in tqdm_notebook(num_trees):\n",
    "    rf = RandomForestClassifier(\n",
    "        featuresCol='vecs', labelCol=\"Star\",\n",
    "        numTrees=numTrees, maxDepth=8,  seed=42)\n",
    "\n",
    "    model = rf.fit(df_trans)\n",
    "    predictions = model.transform(df_trans)\n",
    "\n",
    "    evaluator = MulticlassClassificationEvaluator(labelCol=\"Star\", predictionCol=\"prediction\")\n",
    "    accuracy = evaluator.evaluate(predictions)\n",
    "    print(f\"num trees: {numTrees} accuracy = {accuracy:.4f}\")"
   ]
  },
  {
   "cell_type": "markdown",
   "id": "8109aecb",
   "metadata": {},
   "source": [
    "> 精度最高的随机森林树个数为4。"
   ]
  },
  {
   "cell_type": "markdown",
   "id": "7949cc30",
   "metadata": {},
   "source": [
    "## 5. 选择随机森林树的最大深度"
   ]
  },
  {
   "cell_type": "code",
   "execution_count": 39,
   "id": "c5498b9c",
   "metadata": {},
   "outputs": [
    {
     "name": "stderr",
     "output_type": "stream",
     "text": [
      "C:\\Users\\chensy\\AppData\\Roaming\\Python\\Python37\\site-packages\\ipykernel_launcher.py:7: TqdmDeprecationWarning: This function will be removed in tqdm==5.0.0\n",
      "Please use `tqdm.notebook.tqdm` instead of `tqdm.tqdm_notebook`\n",
      "  import sys\n"
     ]
    },
    {
     "data": {
      "application/vnd.jupyter.widget-view+json": {
       "model_id": "6b0eb949f2a54623b155cce20fb41ea8",
       "version_major": 2,
       "version_minor": 0
      },
      "text/html": [
       "<p>Failed to display Jupyter Widget of type <code>TqdmHBox</code>.</p>\n",
       "<p>\n",
       "  If you're reading this message in the Jupyter Notebook or JupyterLab Notebook, it may mean\n",
       "  that the widgets JavaScript is still loading. If this message persists, it\n",
       "  likely means that the widgets JavaScript library is either not installed or\n",
       "  not enabled. See the <a href=\"https://ipywidgets.readthedocs.io/en/stable/user_install.html\">Jupyter\n",
       "  Widgets Documentation</a> for setup instructions.\n",
       "</p>\n",
       "<p>\n",
       "  If you're reading this message in another frontend (for example, a static\n",
       "  rendering on GitHub or <a href=\"https://nbviewer.jupyter.org/\">NBViewer</a>),\n",
       "  it may mean that your frontend doesn't currently support widgets.\n",
       "</p>\n"
      ],
      "text/plain": [
       "  0%|          | 0/4 [00:00<?, ?it/s]"
      ]
     },
     "metadata": {},
     "output_type": "display_data"
    },
    {
     "name": "stdout",
     "output_type": "stream",
     "text": [
      "max depth: 8 accuracy = 0.5250\n",
      "max depth: 16 accuracy = 0.8661\n",
      "max depth: 24 accuracy = 0.8856\n",
      "max depth: 30 accuracy = 0.8862\n"
     ]
    }
   ],
   "source": [
    "model_path = f\"./temp_data/word2vec128\"\n",
    "# 读取模型\n",
    "model = Word2VecModel.load(model_path)\n",
    "df_trans = model.transform(df).select('vecs', F.col('Star').cast(IntegerType()))\n",
    "\n",
    "max_depth = [8, 16, 24, 30]\n",
    "for maxDepth in tqdm_notebook(max_depth):\n",
    "    rf = RandomForestClassifier(\n",
    "        featuresCol='vecs', labelCol=\"Star\",\n",
    "        numTrees=4, maxDepth=maxDepth,  seed=42)\n",
    "\n",
    "    model = rf.fit(df_trans)\n",
    "    predictions = model.transform(df_trans)\n",
    "\n",
    "    evaluator = MulticlassClassificationEvaluator(labelCol=\"Star\", predictionCol=\"prediction\")\n",
    "    accuracy = evaluator.evaluate(predictions)\n",
    "    print(f\"max depth: {maxDepth} accuracy = {accuracy:.4f}\")"
   ]
  },
  {
   "cell_type": "markdown",
   "id": "3e999173",
   "metadata": {},
   "source": [
    "> 精度最高的随机森林最大深度为30。"
   ]
  },
  {
   "cell_type": "code",
   "execution_count": 47,
   "id": "28ea290b",
   "metadata": {},
   "outputs": [
    {
     "name": "stdout",
     "output_type": "stream",
     "text": [
      "+----+-----+\n",
      "|eval|count|\n",
      "+----+-----+\n",
      "| 0.0| 8873|\n",
      "| 1.0|  849|\n",
      "| 4.0|    5|\n",
      "| 3.0|   40|\n",
      "| 2.0|  233|\n",
      "+----+-----+\n",
      "\n"
     ]
    }
   ],
   "source": [
    "df_eval = predictions.withColumn('eval', F.abs(F.col('Star') - F.col('prediction')))\n",
    "df_eval.groupBy('eval').count().show()"
   ]
  },
  {
   "cell_type": "markdown",
   "id": "ca0f4ce0",
   "metadata": {},
   "source": [
    "---"
   ]
  }
 ],
 "metadata": {
  "kernelspec": {
   "display_name": "Python 3 (ipykernel)",
   "language": "python",
   "name": "python3"
  },
  "language_info": {
   "codemirror_mode": {
    "name": "ipython",
    "version": 3
   },
   "file_extension": ".py",
   "mimetype": "text/x-python",
   "name": "python",
   "nbconvert_exporter": "python",
   "pygments_lexer": "ipython3",
   "version": "3.7.9"
  },
  "nbTranslate": {
   "displayLangs": [
    "*"
   ],
   "hotkey": "alt-t",
   "langInMainMenu": true,
   "sourceLang": "en",
   "targetLang": "fr",
   "useGoogleTranslate": true
  },
  "toc": {
   "base_numbering": 1,
   "nav_menu": {},
   "number_sections": false,
   "sideBar": true,
   "skip_h1_title": true,
   "title_cell": "Table of Contents",
   "title_sidebar": "Contents",
   "toc_cell": false,
   "toc_position": {},
   "toc_section_display": true,
   "toc_window_display": true
  }
 },
 "nbformat": 4,
 "nbformat_minor": 5
}
