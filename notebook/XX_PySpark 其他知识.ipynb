{
 "cells": [
  {
   "cell_type": "code",
   "execution_count": null,
   "id": "9475272a",
   "metadata": {},
   "outputs": [],
   "source": [
    "from pyspark.ml import Pipeline\n",
    "from pyspark.ml.feature import OneHotEncoder, StringIndexer\n",
    "\n",
    "stringIndexer = StringIndexer(inputCol=\"value\", outputCol=\"valueIndex\").setHandleInvalid(\"keep\") \n",
    "encoder = OneHotEncoder(inputCol=\"valueIndex\", outputCol=\"valueIndexVec\")\n",
    "pipeline = Pipeline(stages=[stringIndexer, encoder])\n",
    "model = pipeline.fit(df)\n",
    "transformed = model.transform(df)"
   ]
  },
  {
   "cell_type": "code",
   "execution_count": 4,
   "id": "4d5e00aa",
   "metadata": {},
   "outputs": [
    {
     "data": {
      "text/plain": [
       "False"
      ]
     },
     "execution_count": 4,
     "metadata": {},
     "output_type": "execute_result"
    }
   ],
   "source": [
    "sc = spark._jsc.sc()\n",
    "sc.isStopped()"
   ]
  },
  {
   "cell_type": "code",
   "execution_count": 10,
   "id": "99b54a0e",
   "metadata": {},
   "outputs": [
    {
     "data": {
      "text/html": [
       "\n",
       "            <div>\n",
       "                <p><b>SparkSession - hive</b></p>\n",
       "                \n",
       "        <div>\n",
       "            <p><b>SparkContext</b></p>\n",
       "\n",
       "            <p><a href=\"http://Chensy.mshome.net:4040\">Spark UI</a></p>\n",
       "\n",
       "            <dl>\n",
       "              <dt>Version</dt>\n",
       "                <dd><code>v3.0.2</code></dd>\n",
       "              <dt>Master</dt>\n",
       "                <dd><code>local[*]</code></dd>\n",
       "              <dt>AppName</dt>\n",
       "                <dd><code>PySparkShell</code></dd>\n",
       "            </dl>\n",
       "        </div>\n",
       "        \n",
       "            </div>\n",
       "        "
      ],
      "text/plain": [
       "<pyspark.sql.session.SparkSession at 0x1d70a824408>"
      ]
     },
     "execution_count": 10,
     "metadata": {},
     "output_type": "execute_result"
    }
   ],
   "source": [
    "spark.getActiveSession()"
   ]
  },
  {
   "cell_type": "code",
   "execution_count": null,
   "id": "26ecc706",
   "metadata": {},
   "outputs": [],
   "source": [
    "from pyspark.sql import SparkSession\n",
    "spark = SparkSession.builder.appName('SparkByExamples.com').getOrCreate()\n"
   ]
  },
  {
   "cell_type": "code",
   "execution_count": 13,
   "id": "85533044",
   "metadata": {
    "collapsed": true
   },
   "outputs": [
    {
     "data": {
      "text/plain": [
       "[('spark.sql.catalogImplementation', 'hive'),\n",
       " ('spark.driver.host', 'Chensy.mshome.net'),\n",
       " ('spark.rdd.compress', 'True'),\n",
       " ('spark.serializer.objectStreamReset', '100'),\n",
       " ('spark.master', 'local[*]'),\n",
       " ('spark.driver.port', '55345'),\n",
       " ('spark.submit.pyFiles', ''),\n",
       " ('spark.executor.id', 'driver'),\n",
       " ('spark.submit.deployMode', 'client'),\n",
       " ('spark.app.name', 'PySparkShell'),\n",
       " ('spark.app.id', 'local-1644412018575'),\n",
       " ('spark.ui.showConsoleProgress', 'true'),\n",
       " ('spark.app.startTime', '1644412017588')]"
      ]
     },
     "execution_count": 13,
     "metadata": {},
     "output_type": "execute_result"
    }
   ],
   "source": [
    "configurations"
   ]
  },
  {
   "cell_type": "code",
   "execution_count": 11,
   "id": "20d28236",
   "metadata": {
    "collapsed": true
   },
   "outputs": [
    {
     "name": "stdout",
     "output_type": "stream",
     "text": [
      "('spark.sql.catalogImplementation', 'hive')\n",
      "('spark.driver.host', 'Chensy.mshome.net')\n",
      "('spark.rdd.compress', 'True')\n",
      "('spark.serializer.objectStreamReset', '100')\n",
      "('spark.master', 'local[*]')\n",
      "('spark.driver.port', '55345')\n",
      "('spark.submit.pyFiles', '')\n",
      "('spark.executor.id', 'driver')\n",
      "('spark.submit.deployMode', 'client')\n",
      "('spark.app.name', 'PySparkShell')\n",
      "('spark.app.id', 'local-1644412018575')\n",
      "('spark.ui.showConsoleProgress', 'true')\n",
      "('spark.app.startTime', '1644412017588')\n"
     ]
    }
   ],
   "source": [
    "configurations = \n",
    "for item in configurations:\n",
    "    print(item)"
   ]
  },
  {
   "cell_type": "code",
   "execution_count": 12,
   "id": "c1b225d2",
   "metadata": {},
   "outputs": [
    {
     "data": {
      "text/plain": [
       "[('spark.sql.catalogImplementation', 'hive'),\n",
       " ('spark.driver.host', 'Chensy.mshome.net'),\n",
       " ('spark.rdd.compress', 'True'),\n",
       " ('spark.serializer.objectStreamReset', '100'),\n",
       " ('spark.master', 'local[*]'),\n",
       " ('spark.driver.port', '55345'),\n",
       " ('spark.submit.pyFiles', ''),\n",
       " ('spark.executor.id', 'driver'),\n",
       " ('spark.submit.deployMode', 'client'),\n",
       " ('spark.app.name', 'PySparkShell'),\n",
       " ('spark.app.id', 'local-1644412018575'),\n",
       " ('spark.ui.showConsoleProgress', 'true'),\n",
       " ('spark.app.startTime', '1644412017588')]"
      ]
     },
     "execution_count": 12,
     "metadata": {},
     "output_type": "execute_result"
    }
   ],
   "source": []
  },
  {
   "cell_type": "code",
   "execution_count": 3,
   "id": "7c20e881",
   "metadata": {},
   "outputs": [
    {
     "data": {
      "text/plain": [
       "False"
      ]
     },
     "execution_count": 3,
     "metadata": {},
     "output_type": "execute_result"
    }
   ],
   "source": [
    "spark._jsc.sc().isStopped()"
   ]
  },
  {
   "cell_type": "markdown",
   "id": "54b791b0",
   "metadata": {},
   "source": [
    "# Dataset"
   ]
  },
  {
   "cell_type": "markdown",
   "id": "51f6461e",
   "metadata": {},
   "source": [
    "1. 是Dataframe API的一个扩展，是Spark最新的数据抽象\n",
    "1. 用户友好的API风格，既具有类型安全检查也具有Dataframe的查询优化特性。\n",
    "1. Dataset支持编解码器，当需要访问非堆上的数据时可以避免反序列化整个对象，提高了效率。\n",
    "1. 样例类被用来在Dataset中定义数据的结构信息，样例类中每个属性的名称直接映射到DataSet中的字段名称。\n",
    "1. Dataframe是Dataset的特列，DataFrame=Dataset[Row] ，所以可以通过as方法将Dataframe转换为Dataset。Row是一个类型，跟Car、Person这些的类型一样，所有的表结构信息我都用Row来表示。\n",
    "1. DataSet是强类型的。比如可以有Dataset[Car]，Dataset[Person]."
   ]
  },
  {
   "cell_type": "markdown",
   "id": "dabe5b7f",
   "metadata": {},
   "source": [
    "DataFrame只是知道字段，但是不知道字段的类型，所以在执行这些操作的时候是没办法在编译的时候检查是否类型失败的，比如你可以对一个String进行减法操作，在执行的时候才报错，而DataSet不仅仅知道字段，而且知道字段类型，所以有更严格的错误检查。就跟JSON对象和类对象之间的类比。"
   ]
  },
  {
   "cell_type": "markdown",
   "id": "43643b7c",
   "metadata": {},
   "source": [
    "- 在对DataFrame和Dataset进行操作许多操作都需要这个包进行支持：import spark.implicits._\n",
    "- DataFrame和Dataset均可使用模式匹配获取各个字段的值和类型"
   ]
  },
  {
   "cell_type": "markdown",
   "id": "9c9a2da0",
   "metadata": {},
   "source": [
    "#### DataFrame"
   ]
  },
  {
   "cell_type": "markdown",
   "id": "8ab64532",
   "metadata": {},
   "source": [
    "```scala\n",
    "testDF.map{\n",
    "      case Row(col1:String,col2:Int)=>\n",
    "        println(col1);println(col2)\n",
    "        col1\n",
    "      case _=>\n",
    "        \"\"\n",
    "    }\n",
    "```"
   ]
  },
  {
   "cell_type": "markdown",
   "id": "d80386d0",
   "metadata": {},
   "source": [
    "# OutOfMemoryError"
   ]
  },
  {
   "cell_type": "markdown",
   "id": "c24ef55d",
   "metadata": {},
   "source": [
    "> Bug1： java.lang.OutOfMemoryError: GC overhead limit exceeded"
   ]
  },
  {
   "cell_type": "markdown",
   "id": "b5a125d4",
   "metadata": {},
   "source": [
    "> Bug2：java.lang.OutOfMemoryError: Java heap space"
   ]
  },
  {
   "cell_type": "markdown",
   "id": "d1e1d594",
   "metadata": {},
   "source": [
    "原因分析：\n",
    "\n",
    "1. collect 导致数据回传 Driver，致使 Driver 内存溢出\n",
    "\n",
    "    - 解决方法是增加 Driver 内存\n",
    "\n",
    "2. executor-core 数量太多，导致多个 core 之间争夺 GC 时间以及资源，最后导致大部分时间都花在了 GC 上\n",
    "\n",
    "    - 解决方法是减少 core 数量"
   ]
  },
  {
   "cell_type": "markdown",
   "id": "2f7c179d",
   "metadata": {},
   "source": [
    "```python\n",
    "# - V.1\n",
    "conf = SparkConf()\n",
    "conf.set(\"spark.app.name\", \"es-hadoop\")\n",
    "conf.set(\"spark.executor.memory\", \"64g\")\n",
    "conf.set(\"spark.master\", \"spark://192.168.50.21:7077\")\n",
    "conf.set(\"spark.executor.cores\", \"4\")\n",
    "conf.set(\"spark.driver.memory\", \"5g\")  # 这里是增加jvm的内存\n",
    "conf.set(\"spark.driver.maxResultSize\", \"2g\") # 这里是最大显示结果，这里是提示我改的。\n",
    "\n",
    "# - V.2\n",
    "# jvm分配的内存空间不足,  把相应的内存设置大点即可.\n",
    "spark = SparkSession \\\n",
    "\n",
    "    .builder \\\n",
    "\n",
    "    .appName(\"Python Spark SQL basic example\") \\\n",
    "\n",
    "    .config('spark.executor.memory','8g')\\\n",
    "\n",
    "    .config('spark.driver.memory','8g')\\\n",
    "\n",
    "    .config('spark.driver.maxResultsSize','0')\\\n",
    "\n",
    "    .getOrCreate()\n",
    "```"
   ]
  },
  {
   "cell_type": "markdown",
   "id": "86a620d7",
   "metadata": {},
   "source": [
    "---"
   ]
  }
 ],
 "metadata": {
  "kernelspec": {
   "display_name": "Python 3 (ipykernel)",
   "language": "python",
   "name": "python3"
  },
  "language_info": {
   "codemirror_mode": {
    "name": "ipython",
    "version": 3
   },
   "file_extension": ".py",
   "mimetype": "text/x-python",
   "name": "python",
   "nbconvert_exporter": "python",
   "pygments_lexer": "ipython3",
   "version": "3.7.9"
  },
  "nbTranslate": {
   "displayLangs": [
    "zh-cn",
    "en"
   ],
   "hotkey": "alt-t",
   "langInMainMenu": true,
   "sourceLang": "en",
   "targetLang": "zh-cn",
   "useGoogleTranslate": true
  },
  "toc": {
   "base_numbering": 1,
   "nav_menu": {},
   "number_sections": true,
   "sideBar": true,
   "skip_h1_title": false,
   "title_cell": "Table of Contents",
   "title_sidebar": "Contents",
   "toc_cell": false,
   "toc_position": {},
   "toc_section_display": true,
   "toc_window_display": true
  }
 },
 "nbformat": 4,
 "nbformat_minor": 5
}
