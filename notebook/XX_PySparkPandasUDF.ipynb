{
 "cells": [
  {
   "cell_type": "markdown",
   "metadata": {},
   "source": [
    "## Pandas_udf"
   ]
  },
  {
   "cell_type": "code",
   "execution_count": null,
   "metadata": {},
   "outputs": [],
   "source": [
    "pdf = pd.DataFrame(np.random.rand(1000, 3))\n",
    "pdf = pdf.rename(columns={0: \"one\", 1: \"two\", 2: \"three\"})\n",
    "pdf[\"id\"] = np.random.randint(0, 50, size=len(pdf))\n",
    "sdf = spark.createDataFrame(pdf)"
   ]
  },
  {
   "cell_type": "code",
   "execution_count": 15,
   "metadata": {
    "ExecuteTime": {
     "end_time": "2021-06-30T10:24:57.639966Z",
     "start_time": "2021-06-30T10:24:54.204301Z"
    },
    "collapsed": true
   },
   "outputs": [
    {
     "name": "stdout",
     "output_type": "stream",
     "text": [
      "+---+---+-----+---+------------+------------+---------------+\n",
      "|one|two|three| id|one_plus_one|two_plus_one|three_processed|\n",
      "+---+---+-----+---+------------+------------+---------------+\n",
      "|0.9|0.9|  0.9| 41|         1.9|         1.9|            1.9|\n",
      "|0.3|0.4|  0.3| 28|         1.3|         1.4|            1.3|\n",
      "|0.2|0.8|  0.7| 45|         1.2|         1.8|            1.7|\n",
      "|0.9|0.4|  0.2|  9|         1.9|         1.4|            1.2|\n",
      "|0.8|0.1|  0.7|  2|         1.8|         1.1|            1.7|\n",
      "|0.8|1.0|  0.9| 42|         1.8|         2.0|            1.9|\n",
      "|0.8|0.7|  0.6| 11|         1.8|         1.7|            1.6|\n",
      "|1.0|0.6|  0.7| 18|         2.0|         1.6|            1.7|\n",
      "|0.6|0.3|  0.9| 37|         1.6|         1.3|            1.9|\n",
      "|0.8|0.8|  0.2| 46|         1.8|         1.8|            1.2|\n",
      "|0.6|0.9|  0.5| 19|         1.6|         1.9|            1.5|\n",
      "|0.3|0.9|  0.2|  5|         1.3|         1.9|            1.2|\n",
      "|0.1|0.6|  0.6| 12|         1.1|         1.6|            1.6|\n",
      "|0.3|0.5|  0.5| 38|         1.3|         1.5|            1.5|\n",
      "|0.1|0.3|  0.4|  8|         1.1|         1.3|            1.4|\n",
      "|0.2|0.6|  0.3|  9|         1.2|         1.6|            1.3|\n",
      "|0.6|0.5|  0.7| 23|         1.6|         1.5|            1.7|\n",
      "|0.3|0.8|  0.8| 32|         1.3|         1.8|            1.8|\n",
      "|0.6|0.8|  0.5| 34|         1.6|         1.8|            1.5|\n",
      "|0.9|0.7|  0.8| 47|         1.9|         1.7|            1.8|\n",
      "+---+---+-----+---+------------+------------+---------------+\n",
      "only showing top 20 rows\n",
      "\n"
     ]
    }
   ],
   "source": [
    "# 使用 pandas_udf 定义一个 Pandas UDF\n",
    "@F.pandas_udf('double', F.PandasUDFType.SCALAR)\n",
    "#输入/输出都是 double 类型的 pandas.Series\n",
    "def pandasPlusOne(a):\n",
    "    return a + 1\n",
    "\n",
    "df = df.withColumn(\"three_processed\", pandasPlusOne(df[\"three\"]))\n",
    "df.show()"
   ]
  },
  {
   "cell_type": "code",
   "execution_count": null,
   "metadata": {},
   "outputs": [],
   "source": [
    "def plus_one(a):\n",
    "    return a + 1"
   ]
  },
  {
   "cell_type": "code",
   "execution_count": null,
   "metadata": {},
   "outputs": [],
   "source": [
    "#使用 pandas_udf 定义一个 Pandas UDF\n",
    "@pandas_udf('double', PandasUDFType.SCALAR)\n",
    "#输入/输出都是 double 类型的 pandas.Series\n",
    "def pandas_plus_one(a):\n",
    "    return a + 1\n",
    "\n",
    "sdf.withColumn(\"one_processed\", pandas_plus_one(sdf[\"one\"]))\n",
    "Copy to clipboardErrorCopied\n",
    "scala pandas UDF定义函数的特点 ：\n",
    "\n",
    "输入、输出数据类型 -> pandas.Series\n",
    "输出数据大小 -> 和输入大小一样\n",
    "函数装饰器中的返回类型 -> 一个 DataType，用于指定返回的 pandas.Series 的类型\n",
    "Subtract Mean\n",
    "\n",
    "下例显示了使用 grouped map Pandas UDFs从组中的three列每个值减去平均值。\n",
    "每个输入到自定义函数的 pandas.DataFrame 具有相同的 “id” 值。这个用户定\n",
    "义函数的输入和输出模式是相同的，所以我们将 “df.schema” \n",
    "传递给装饰器 pandas_udf 来指定模式。"
   ]
  },
  {
   "cell_type": "code",
   "execution_count": null,
   "metadata": {},
   "outputs": [],
   "source": [
    "@pandas_udf(sdf.schema, PandasUDFType.GROUPED_MAP)\n",
    "#Input/output are both a pandas.DataFrame\n",
    "def subtract_mean(df):\n",
    "    return df.assign(new_col=df.three - df.three.mean())"
   ]
  },
  {
   "cell_type": "code",
   "execution_count": null,
   "metadata": {},
   "outputs": [],
   "source": [
    "sdf.groupby(\"id\").apply(subtract_mean)\n",
    "\n",
    "def myFunc(data_list):\n",
    "    for val in data_list:\n",
    "        b, c = data.split(',')\n",
    "        # do something\n",
    "    return whatever\n",
    "\n",
    "myUdf = udf(myFunc, StringType())"
   ]
  },
  {
   "cell_type": "code",
   "execution_count": null,
   "metadata": {},
   "outputs": [],
   "source": [
    "df.withColumn('data', concat_ws(',', col('B'), col('C')))\n",
    "  .groupBy('A').agg(collect_list('data').alias('data'))\n",
    "  .withColumn('data', myUdf('data'))\n",
    "Copy to clipboardErrorCopied\n",
    "def func(data_col1,data_col2):\n",
    "    xxxx   #进行处理\n",
    "    return str_out\n",
    "func_udf = udf(func, StringType())"
   ]
  },
  {
   "cell_type": "code",
   "execution_count": null,
   "metadata": {},
   "outputs": [],
   "source": [
    "# 以下两者读取 col 列数据的方式不同 都可以用效果一样\n",
    "df_out = df.withColumn(\"new_col\", func_udf(df[\"col1\"]，df[\"col2\"]))\n",
    "df_out = df.withColumn(\"new_col\", func_udf(df.col1，df.col2))\n",
    "Copy to clipboardErrorCopied\n",
    "df.groupBy('col').agg(MyUDF(F.collect_list(F.when(cond, res).otherwise(res))))"
   ]
  },
  {
   "cell_type": "markdown",
   "metadata": {},
   "source": [
    "----"
   ]
  },
  {
   "cell_type": "code",
   "execution_count": null,
   "metadata": {},
   "outputs": [],
   "source": []
  }
 ],
 "metadata": {
  "kernelspec": {
   "display_name": "Python 3",
   "language": "python",
   "name": "python3"
  },
  "language_info": {
   "codemirror_mode": {
    "name": "ipython",
    "version": 3
   },
   "file_extension": ".py",
   "mimetype": "text/x-python",
   "name": "python",
   "nbconvert_exporter": "python",
   "pygments_lexer": "ipython3",
   "version": "3.7.7"
  },
  "nbTranslate": {
   "displayLangs": [
    "zh-cn",
    "en"
   ],
   "hotkey": "alt-t",
   "langInMainMenu": true,
   "sourceLang": "en",
   "targetLang": "zh-cn",
   "useGoogleTranslate": true
  },
  "toc": {
   "base_numbering": 1,
   "nav_menu": {},
   "number_sections": false,
   "sideBar": true,
   "skip_h1_title": false,
   "title_cell": "Table of Contents",
   "title_sidebar": "Contents",
   "toc_cell": false,
   "toc_position": {},
   "toc_section_display": true,
   "toc_window_display": false
  }
 },
 "nbformat": 4,
 "nbformat_minor": 4
}
