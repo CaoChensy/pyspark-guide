{
 "cells": [
  {
   "cell_type": "markdown",
   "id": "c055f882",
   "metadata": {},
   "source": [
    "# PySpark 数据分桶 - Bucketizer"
   ]
  },
  {
   "cell_type": "markdown",
   "id": "e064e9eb",
   "metadata": {
    "lang": "zh-cn"
   },
   "source": [
    "将一列连续特征映射到一列特征桶。\n",
    "\n",
    "- 从 `3.0.0` 开始，`Bucketizer` 可以通过设置 `inputCols` 参数一次映射多个列。\n",
    "请注意，当同时设置 `inputCol` 和 `inputCols` 参数时，将抛出异常。 \n",
    "- `splits` 参数仅用于单列使用，而 `splitsArray` 用于多列。"
   ]
  },
  {
   "cell_type": "markdown",
   "id": "403fc267",
   "metadata": {},
   "source": [
    "```python\n",
    "class pyspark.ml.feature.Bucketizer(\n",
    "    *, splits=None, inputCol=None, outputCol=None, handleInvalid='error', \n",
    "    splitsArray=None, inputCols=None, outputCols=None)\n",
    "```"
   ]
  },
  {
   "cell_type": "code",
   "execution_count": 3,
   "id": "732fe25a",
   "metadata": {},
   "outputs": [],
   "source": [
    "from pyspark.ml.feature import Bucketizer"
   ]
  },
  {
   "cell_type": "code",
   "execution_count": 15,
   "id": "c476f53d",
   "metadata": {},
   "outputs": [
    {
     "name": "stdout",
     "output_type": "stream",
     "text": [
      "+-------+-------+\n",
      "|values1|values2|\n",
      "+-------+-------+\n",
      "|    0.1|    0.0|\n",
      "|    0.4|    1.0|\n",
      "|    1.2|    1.3|\n",
      "|    1.4|    1.3|\n",
      "|    1.5|    NaN|\n",
      "|    NaN|    1.0|\n",
      "|    NaN|    0.0|\n",
      "+-------+-------+\n",
      "\n"
     ]
    }
   ],
   "source": [
    "values = [\n",
    "    (0.1, 0.0), (0.4, 1.0), (1.2, 1.3), (1.4, 1.3), (1.5, float(\"nan\")),\n",
    "    (float(\"nan\"), 1.0), (float(\"nan\"), 0.0)]\n",
    "df = spark.createDataFrame(values, [\"values1\", \"values2\"])\n",
    "df.show()"
   ]
  },
  {
   "cell_type": "code",
   "execution_count": 17,
   "id": "caee5ebd",
   "metadata": {},
   "outputs": [
    {
     "name": "stdout",
     "output_type": "stream",
     "text": [
      "+-------+-------+-------+\n",
      "|values1|values2|buckets|\n",
      "+-------+-------+-------+\n",
      "|    0.1|    0.0|    0.0|\n",
      "|    0.4|    1.0|    0.0|\n",
      "|    1.2|    1.3|    1.0|\n",
      "|    1.4|    1.3|    2.0|\n",
      "|    1.5|    NaN|    2.0|\n",
      "|    NaN|    1.0|    3.0|\n",
      "|    NaN|    0.0|    3.0|\n",
      "+-------+-------+-------+\n",
      "\n"
     ]
    }
   ],
   "source": [
    "bucketizer = Bucketizer(\n",
    "    inputCol='values1',\n",
    "    outputCol='buckets',\n",
    "    splits=[-float(\"inf\"), 0.5, 1.4, float(\"inf\")],\n",
    "    handleInvalid='keep',\n",
    ")\n",
    "\n",
    "bucketed = bucketizer.transform(df)\n",
    "bucketed.show()"
   ]
  },
  {
   "cell_type": "code",
   "execution_count": 16,
   "id": "e6734f09",
   "metadata": {},
   "outputs": [
    {
     "name": "stdout",
     "output_type": "stream",
     "text": [
      "+-------+-------+-------+\n",
      "|values1|values2|buckets|\n",
      "+-------+-------+-------+\n",
      "|    0.1|    0.0|    0.0|\n",
      "|    0.4|    1.0|    1.0|\n",
      "|    1.2|    1.3|    1.0|\n",
      "|    1.4|    1.3|    2.0|\n",
      "|    1.5|    NaN|    2.0|\n",
      "+-------+-------+-------+\n",
      "\n"
     ]
    }
   ],
   "source": [
    "bucketizer = Bucketizer(\n",
    "    inputCol='values1',\n",
    "    outputCol='buckets',\n",
    "    splits=[-float(\"inf\"), 0.4, 1.4, float(\"inf\")],\n",
    "    handleInvalid='skip',\n",
    ")\n",
    "\n",
    "bucketed = bucketizer.transform(df)\n",
    "bucketed.show()"
   ]
  },
  {
   "cell_type": "markdown",
   "id": "e294ae99",
   "metadata": {},
   "source": [
    "---"
   ]
  }
 ],
 "metadata": {
  "kernelspec": {
   "display_name": "Python 3 (ipykernel)",
   "language": "python",
   "name": "python3"
  },
  "language_info": {
   "codemirror_mode": {
    "name": "ipython",
    "version": 3
   },
   "file_extension": ".py",
   "mimetype": "text/x-python",
   "name": "python",
   "nbconvert_exporter": "python",
   "pygments_lexer": "ipython3",
   "version": "3.7.9"
  },
  "nbTranslate": {
   "displayLangs": [
    "zh-cn"
   ],
   "hotkey": "alt-t",
   "langInMainMenu": true,
   "sourceLang": "en",
   "targetLang": "zh-cn",
   "useGoogleTranslate": true
  },
  "toc": {
   "base_numbering": 1,
   "nav_menu": {},
   "number_sections": true,
   "sideBar": true,
   "skip_h1_title": false,
   "title_cell": "Table of Contents",
   "title_sidebar": "Contents",
   "toc_cell": false,
   "toc_position": {},
   "toc_section_display": true,
   "toc_window_display": false
  }
 },
 "nbformat": 4,
 "nbformat_minor": 5
}
