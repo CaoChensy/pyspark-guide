{
 "cells": [
  {
   "cell_type": "markdown",
   "metadata": {},
   "source": [
    "# PySpark 线性回归"
   ]
  },
  {
   "cell_type": "markdown",
   "metadata": {},
   "source": [
    "## 准备数据"
   ]
  },
  {
   "cell_type": "code",
   "execution_count": 1,
   "metadata": {},
   "outputs": [],
   "source": [
    "import pandas as pd\n",
    "from sklearn import datasets\n",
    "from pyspark.sql.functions import corr\n",
    "from pyspark.ml.regression import LinearRegression"
   ]
  },
  {
   "cell_type": "code",
   "execution_count": 2,
   "metadata": {},
   "outputs": [],
   "source": [
    "# 读取波士顿房价的数据\n",
    "data = datasets.load_boston().get('data')\n",
    "target = datasets.load_boston().get('target')\n",
    "feature_names = datasets.load_boston().get('feature_names')\n",
    "# 创建 Pyspark DataFrame\n",
    "df = pd.DataFrame(data, columns=feature_names)\n",
    "df['target'] = target\n",
    "df = spark.createDataFrame(df)"
   ]
  },
  {
   "cell_type": "code",
   "execution_count": 3,
   "metadata": {},
   "outputs": [
    {
     "name": "stdout",
     "output_type": "stream",
     "text": [
      "(506, 14)\n",
      "+-------+----+-----+----+-----+-----+----+------+---+-----+-------+------+-----+------+\n",
      "|   CRIM|  ZN|INDUS|CHAS|  NOX|   RM| AGE|   DIS|RAD|  TAX|PTRATIO|     B|LSTAT|target|\n",
      "+-------+----+-----+----+-----+-----+----+------+---+-----+-------+------+-----+------+\n",
      "|0.00632|18.0| 2.31| 0.0|0.538|6.575|65.2|  4.09|1.0|296.0|   15.3| 396.9| 4.98|  24.0|\n",
      "|0.02731| 0.0| 7.07| 0.0|0.469|6.421|78.9|4.9671|2.0|242.0|   17.8| 396.9| 9.14|  21.6|\n",
      "|0.02729| 0.0| 7.07| 0.0|0.469|7.185|61.1|4.9671|2.0|242.0|   17.8|392.83| 4.03|  34.7|\n",
      "+-------+----+-----+----+-----+-----+----+------+---+-----+-------+------+-----+------+\n",
      "only showing top 3 rows\n",
      "\n"
     ]
    }
   ],
   "source": [
    "print((df.count(), len(df.columns)))\n",
    "df.show(3)"
   ]
  },
  {
   "cell_type": "markdown",
   "metadata": {},
   "source": [
    "## 相关性分析"
   ]
  },
  {
   "cell_type": "markdown",
   "metadata": {},
   "source": [
    "- 计算相关性的示例"
   ]
  },
  {
   "cell_type": "code",
   "execution_count": 4,
   "metadata": {},
   "outputs": [
    {
     "name": "stdout",
     "output_type": "stream",
     "text": [
      "+-------------------+\n",
      "|  corr(NOX, target)|\n",
      "+-------------------+\n",
      "|-0.4273207723732824|\n",
      "+-------------------+\n",
      "\n"
     ]
    }
   ],
   "source": [
    "df.select(corr('NOX','target')).show()"
   ]
  },
  {
   "cell_type": "markdown",
   "metadata": {},
   "source": [
    "## 数据预处理"
   ]
  },
  {
   "cell_type": "code",
   "execution_count": 5,
   "metadata": {},
   "outputs": [],
   "source": [
    "from pyspark.ml.linalg import Vector\n",
    "from pyspark.ml.feature import VectorAssembler"
   ]
  },
  {
   "cell_type": "code",
   "execution_count": 6,
   "metadata": {},
   "outputs": [],
   "source": [
    "# 集合所有特征，放在features列里\n",
    "vec_assmebler = VectorAssembler(\n",
    "    inputCols=feature_names.tolist(),\n",
    "    outputCol='features')\n",
    "\n",
    "# 对 df 进行合并特征操作\n",
    "df_features = vec_assmebler.transform(df)"
   ]
  },
  {
   "cell_type": "code",
   "execution_count": 7,
   "metadata": {
    "lang": "en"
   },
   "outputs": [
    {
     "name": "stdout",
     "output_type": "stream",
     "text": [
      "+--------------------+------+\n",
      "|            features|target|\n",
      "+--------------------+------+\n",
      "|[0.00632,18.0,2.3...|  24.0|\n",
      "|[0.02731,0.0,7.07...|  21.6|\n",
      "|[0.02729,0.0,7.07...|  34.7|\n",
      "|[0.03237,0.0,2.18...|  33.4|\n",
      "|[0.06905,0.0,2.18...|  36.2|\n",
      "+--------------------+------+\n",
      "only showing top 5 rows\n",
      "\n"
     ]
    }
   ],
   "source": [
    "# 创建包含输入特征 和 目标变量 target 的数据\n",
    "df_model = df_features.select('features', 'target')\n",
    "\n",
    "df_model.show(5)"
   ]
  },
  {
   "cell_type": "markdown",
   "metadata": {},
   "source": [
    "## 切分数据集（训练集、测试集）"
   ]
  },
  {
   "cell_type": "code",
   "execution_count": 8,
   "metadata": {},
   "outputs": [],
   "source": [
    "df_train, df_test = df_model.randomSplit([0.7, 0.3], seed=0)"
   ]
  },
  {
   "cell_type": "markdown",
   "metadata": {},
   "source": [
    "## 训练模型"
   ]
  },
  {
   "cell_type": "code",
   "execution_count": 9,
   "metadata": {},
   "outputs": [],
   "source": [
    "# 创建线性回归模型\n",
    "lin_Reg = LinearRegression(labelCol='target')\n",
    "\n",
    "# 在训练集上拟合数据\n",
    "lr_model = lin_Reg.fit(df_train)"
   ]
  },
  {
   "cell_type": "code",
   "execution_count": 10,
   "metadata": {},
   "outputs": [
    {
     "data": {
      "text/plain": [
       "(35.88334690480532,\n",
       " DenseVector([-0.0643, 0.04, 0.0029, 2.6079, -19.6509, 4.1625, -0.0004, -1.4713, 0.3194, -0.0137, -0.9707, 0.0083, -0.4721]))"
      ]
     },
     "execution_count": 10,
     "metadata": {},
     "output_type": "execute_result"
    }
   ],
   "source": [
    "# 模型的回归截距与参数\n",
    "lr_model.intercept, lr_model.coefficients"
   ]
  },
  {
   "cell_type": "markdown",
   "metadata": {},
   "source": [
    "### 训练超参数说明"
   ]
  },
  {
   "cell_type": "markdown",
   "metadata": {},
   "source": [
    "- `featuresCol='features'`        特征列的名称\n",
    "- `labelCol='label'`              标签列的名称\n",
    "- `predictionCol='prediction'`    \n",
    "- `maxIter=100`                   最大训练批次\n",
    "- `regParam=0.0`                  正则项系数\n",
    "- `elasticNetParam=0.0`           弹性正则系数\n",
    "- `tol=1e-06`\n",
    "- `fitIntercept=True`             拟合截距项\n",
    "- `standardization=True`     \n",
    "- `solver='auto'`                 优化方式\n",
    "- `weightCol=None`\n",
    "- `aggregationDepth=2`\n",
    "- `loss='squaredError'`           损失函数\n",
    "- `epsilon=1.35`"
   ]
  },
  {
   "cell_type": "markdown",
   "metadata": {},
   "source": [
    "## 训练集评估"
   ]
  },
  {
   "cell_type": "code",
   "execution_count": 11,
   "metadata": {},
   "outputs": [
    {
     "data": {
      "text/plain": [
       "(21.585143449293863, 0.7430405918024237)"
      ]
     },
     "execution_count": 11,
     "metadata": {},
     "output_type": "execute_result"
    }
   ],
   "source": [
    "training_predictions = lr_model.evaluate(df_train)\n",
    "\n",
    "training_predictions.meanSquaredError, training_predictions.r2"
   ]
  },
  {
   "cell_type": "markdown",
   "metadata": {},
   "source": [
    "## 测试集评估"
   ]
  },
  {
   "cell_type": "code",
   "execution_count": 12,
   "metadata": {},
   "outputs": [
    {
     "name": "stdout",
     "output_type": "stream",
     "text": [
      "+-------------------+\n",
      "|          residuals|\n",
      "+-------------------+\n",
      "| -5.719690075825394|\n",
      "|0.31025853627768285|\n",
      "| 3.4118886696110238|\n",
      "|-2.2943325047665404|\n",
      "|-1.3268043339591848|\n",
      "| 0.8588898105950236|\n",
      "|  1.698994303382559|\n",
      "|0.02466049419328442|\n",
      "| -2.614978934070038|\n",
      "|  4.288604319922527|\n",
      "+-------------------+\n",
      "only showing top 10 rows\n",
      "\n"
     ]
    },
    {
     "data": {
      "text/plain": [
       "(0.72683432653438, 4.824656613017763, 23.277311433536035)"
      ]
     },
     "execution_count": 12,
     "metadata": {},
     "output_type": "execute_result"
    }
   ],
   "source": [
    "# 对测试集的数据进行预测\n",
    "test_results=lr_model.evaluate(df_test)\n",
    "\n",
    "# 展示预测值的残差\n",
    "test_results.residuals.show(10)\n",
    "\n",
    "# 测试集的模型评估\n",
    "test_results.r2, test_results.rootMeanSquaredError, test_results.meanSquaredError"
   ]
  },
  {
   "cell_type": "markdown",
   "metadata": {},
   "source": [
    "---"
   ]
  }
 ],
 "metadata": {
  "kernelspec": {
   "display_name": "Python 3",
   "language": "python",
   "name": "python3"
  },
  "language_info": {
   "codemirror_mode": {
    "name": "ipython",
    "version": 3
   },
   "file_extension": ".py",
   "mimetype": "text/x-python",
   "name": "python",
   "nbconvert_exporter": "python",
   "pygments_lexer": "ipython3",
   "version": "3.7.7"
  },
  "nbTranslate": {
   "displayLangs": [
    "zh-cn",
    "en"
   ],
   "hotkey": "alt-t",
   "langInMainMenu": true,
   "sourceLang": "en",
   "targetLang": "zh-cn",
   "useGoogleTranslate": true
  },
  "toc": {
   "base_numbering": 1,
   "nav_menu": {},
   "number_sections": true,
   "sideBar": true,
   "skip_h1_title": false,
   "title_cell": "Table of Contents",
   "title_sidebar": "Contents",
   "toc_cell": false,
   "toc_position": {},
   "toc_section_display": true,
   "toc_window_display": true
  }
 },
 "nbformat": 4,
 "nbformat_minor": 5
}
