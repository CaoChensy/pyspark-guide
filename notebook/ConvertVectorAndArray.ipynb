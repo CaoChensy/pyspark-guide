{
 "cells": [
  {
   "cell_type": "code",
   "execution_count": null,
   "id": "681eb8db",
   "metadata": {},
   "outputs": [],
   "source": [
    "pyspark.ml.functions.array_to_vector\n",
    "pyspark.ml.functions.array_to_vector(col)[source]\n",
    "Converts a column of array of numeric type into a column of dense vectors in MLlib\n",
    "\n",
    "New in version 3.1.0.\n",
    "\n",
    "Parameters\n",
    "colpyspark.sql.Column or str\n",
    "Input column\n",
    "\n",
    "Returns\n",
    "pyspark.sql.Column\n",
    "The converted column of MLlib dense vectors.\n",
    "\n",
    "from pyspark.ml.functions import array_to_vector\n",
    "df1 = spark.createDataFrame([([1.5, 2.5],),], schema='v1 array<double>')\n",
    "df1.select(array_to_vector('v1').alias('vec1')).collect()\n",
    "\n",
    "df2 = spark.createDataFrame([([1.5, 3.5],),], schema='v1 array<float>')\n",
    "df2.select(array_to_vector('v1').alias('vec1')).collect()\n",
    "\n",
    "df3 = spark.createDataFrame([([1, 3],),], schema='v1 array<int>')\n",
    "df3.select(array_to_vector('v1').alias('vec1')).collect()"
   ]
  },
  {
   "cell_type": "markdown",
   "id": "9a008529",
   "metadata": {},
   "source": [
    "```python\n",
    "pyspark.ml.functions.vector_to_array(col, dtype='float64')\n",
    "```"
   ]
  },
  {
   "cell_type": "code",
   "execution_count": null,
   "id": "7a4d4627",
   "metadata": {},
   "outputs": [],
   "source": [
    "Converts a column of MLlib sparse/dense vectors into a column of dense arrays.\n",
    "\n",
    "New in version 3.0.0.\n",
    "\n",
    "Parameters\n",
    "colpyspark.sql.Column or str\n",
    "Input column\n",
    "\n",
    "dtypestr, optional\n",
    "The data type of the output array. Valid values: “float64” or “float32”.\n",
    "\n",
    "Returns\n",
    "pyspark.sql.Column\n",
    "The converted column of dense arrays."
   ]
  },
  {
   "cell_type": "code",
   "execution_count": 1,
   "id": "5e188cbb",
   "metadata": {},
   "outputs": [],
   "source": [
    "from pyspark.ml.linalg import Vectors\n",
    "from pyspark.ml.functions import vector_to_array\n",
    "from pyspark.mllib.linalg import Vectors as OldVectors"
   ]
  },
  {
   "cell_type": "code",
   "execution_count": 2,
   "id": "3e3df0ee",
   "metadata": {},
   "outputs": [
    {
     "name": "stdout",
     "output_type": "stream",
     "text": [
      "+-------------------+--------------------+\n",
      "|                vec|              oldVec|\n",
      "+-------------------+--------------------+\n",
      "|      [1.0,2.0,3.0]|    [10.0,20.0,30.0]|\n",
      "|(3,[0,2],[2.0,3.0])|(3,[0,2],[20.0,30...|\n",
      "+-------------------+--------------------+\n",
      "\n"
     ]
    }
   ],
   "source": [
    "df = spark.createDataFrame([\n",
    "    (Vectors.dense(1.0, 2.0, 3.0), OldVectors.dense(10.0, 20.0, 30.0)),\n",
    "    (Vectors.sparse(3, [(0, 2.0), (2, 3.0)]), OldVectors.sparse(3, [(0, 20.0), (2, 30.0)]))],\n",
    "    [\"vec\", \"oldVec\"])\n",
    "df.show()"
   ]
  },
  {
   "cell_type": "code",
   "execution_count": 4,
   "id": "02acd4a9",
   "metadata": {},
   "outputs": [
    {
     "name": "stdout",
     "output_type": "stream",
     "text": [
      "+---------------+------------------+\n",
      "|            vec|            oldVec|\n",
      "+---------------+------------------+\n",
      "|[1.0, 2.0, 3.0]|[10.0, 20.0, 30.0]|\n",
      "|[2.0, 0.0, 3.0]| [20.0, 0.0, 30.0]|\n",
      "+---------------+------------------+\n",
      "\n"
     ]
    }
   ],
   "source": [
    "df_array = df.select(\n",
    "    vector_to_array(\"vec\").alias(\"vec\"),\n",
    "    vector_to_array(\"oldVec\").alias(\"oldVec\"))\n",
    "df_array.show()"
   ]
  },
  {
   "cell_type": "code",
   "execution_count": 6,
   "id": "beaee219",
   "metadata": {},
   "outputs": [
    {
     "name": "stdout",
     "output_type": "stream",
     "text": [
      "+---------------+------------------+\n",
      "|            vec|            oldVec|\n",
      "+---------------+------------------+\n",
      "|[1.0, 2.0, 3.0]|[10.0, 20.0, 30.0]|\n",
      "|[2.0, 0.0, 3.0]| [20.0, 0.0, 30.0]|\n",
      "+---------------+------------------+\n",
      "\n"
     ]
    }
   ],
   "source": [
    "df_array = df.select(vector_to_array(\"vec\", \"float32\").alias(\"vec\"),\n",
    "                vector_to_array(\"oldVec\", \"float32\").alias(\"oldVec\"))\n",
    "df_array.show()"
   ]
  },
  {
   "cell_type": "markdown",
   "id": "37f296f4",
   "metadata": {},
   "source": [
    "---"
   ]
  }
 ],
 "metadata": {
  "kernelspec": {
   "display_name": "Python 3 (ipykernel)",
   "language": "python",
   "name": "python3"
  },
  "language_info": {
   "codemirror_mode": {
    "name": "ipython",
    "version": 3
   },
   "file_extension": ".py",
   "mimetype": "text/x-python",
   "name": "python",
   "nbconvert_exporter": "python",
   "pygments_lexer": "ipython3",
   "version": "3.7.9"
  },
  "nbTranslate": {
   "displayLangs": [
    "*"
   ],
   "hotkey": "alt-t",
   "langInMainMenu": true,
   "sourceLang": "en",
   "targetLang": "fr",
   "useGoogleTranslate": true
  },
  "toc": {
   "base_numbering": 1,
   "nav_menu": {},
   "number_sections": true,
   "sideBar": true,
   "skip_h1_title": false,
   "title_cell": "Table of Contents",
   "title_sidebar": "Contents",
   "toc_cell": false,
   "toc_position": {},
   "toc_section_display": true,
   "toc_window_display": false
  }
 },
 "nbformat": 4,
 "nbformat_minor": 5
}
