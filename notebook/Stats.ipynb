{
 "cells": [
  {
   "cell_type": "markdown",
   "metadata": {
    "toc": true
   },
   "source": [
    "<h1>Table of Contents<span class=\"tocSkip\"></span></h1>\n",
    "<div class=\"toc\"><ul class=\"toc-item\"><li><span><a href=\"#创建数据\" data-toc-modified-id=\"创建数据-1\"><span class=\"toc-item-num\">1&nbsp;&nbsp;</span>创建数据</a></span></li><li><span><a href=\"#描述性统计\" data-toc-modified-id=\"描述性统计-2\"><span class=\"toc-item-num\">2&nbsp;&nbsp;</span>描述性统计</a></span><ul class=\"toc-item\"><li><span><a href=\"#description\" data-toc-modified-id=\"description-2.1\"><span class=\"toc-item-num\">2.1&nbsp;&nbsp;</span>description</a></span></li><li><span><a href=\"#频繁数\" data-toc-modified-id=\"频繁数-2.2\"><span class=\"toc-item-num\">2.2&nbsp;&nbsp;</span>频繁数</a></span></li></ul></li><li><span><a href=\"#四分位数\" data-toc-modified-id=\"四分位数-3\"><span class=\"toc-item-num\">3&nbsp;&nbsp;</span>四分位数</a></span><ul class=\"toc-item\"><li><span><a href=\"#test\" data-toc-modified-id=\"test-3.1\"><span class=\"toc-item-num\">3.1&nbsp;&nbsp;</span>test</a></span></li></ul></li></ul></div>"
   ]
  },
  {
   "cell_type": "code",
   "execution_count": null,
   "metadata": {},
   "outputs": [],
   "source": []
  },
  {
   "cell_type": "code",
   "execution_count": 1,
   "metadata": {},
   "outputs": [],
   "source": [
    "from pyspark.sql.types import *\n",
    "import pyspark.sql.functions as F"
   ]
  },
  {
   "cell_type": "code",
   "execution_count": 2,
   "metadata": {},
   "outputs": [],
   "source": [
    "F??"
   ]
  },
  {
   "cell_type": "markdown",
   "metadata": {},
   "source": [
    "## 创建数据"
   ]
  },
  {
   "cell_type": "code",
   "execution_count": 2,
   "metadata": {},
   "outputs": [
    {
     "name": "stdout",
     "output_type": "stream",
     "text": [
      "+---+-------------------+--------------------+\n",
      "| id|            uniform|              normal|\n",
      "+---+-------------------+--------------------+\n",
      "|  0| 0.1709497137955568| -0.8664700627108758|\n",
      "|  1|0.03422639313807285| 0.45800664187768786|\n",
      "|  2| 0.3654625958161396| 0.16420866768809156|\n",
      "|  3| 0.4175019040792016| -1.0451987154313813|\n",
      "|  4| 0.9899129399827472|  0.9543129239458202|\n",
      "|  5|0.16452185994603707|  0.8306551181802446|\n",
      "|  6|0.18141810315190554|  1.3792681955381285|\n",
      "|  7|0.49595620559530806|-0.02511484514022299|\n",
      "|  8| 0.9697474945375325|  0.5991404703866096|\n",
      "|  9|0.07530606222259384|  1.7264843633887004|\n",
      "+---+-------------------+--------------------+\n",
      "\n"
     ]
    }
   ],
   "source": [
    "df = spark.range(0,10)\n",
    "df.select(\n",
    "    'id', F.rand(seed=10).alias(\"uniform\"), \n",
    "    F.randn(seed=27).alias(\"normal\")).show()"
   ]
  },
  {
   "cell_type": "markdown",
   "metadata": {},
   "source": [
    "## 描述性统计"
   ]
  },
  {
   "cell_type": "markdown",
   "metadata": {},
   "source": [
    "### description"
   ]
  },
  {
   "cell_type": "code",
   "execution_count": null,
   "metadata": {},
   "outputs": [],
   "source": []
  },
  {
   "cell_type": "markdown",
   "metadata": {},
   "source": [
    "### 频繁数"
   ]
  },
  {
   "cell_type": "code",
   "execution_count": null,
   "metadata": {},
   "outputs": [],
   "source": []
  },
  {
   "cell_type": "markdown",
   "metadata": {},
   "source": [
    "## 四分位数"
   ]
  },
  {
   "cell_type": "markdown",
   "metadata": {},
   "source": [
    "### test"
   ]
  },
  {
   "cell_type": "code",
   "execution_count": null,
   "metadata": {},
   "outputs": [],
   "source": []
  },
  {
   "cell_type": "code",
   "execution_count": null,
   "metadata": {},
   "outputs": [],
   "source": []
  }
 ],
 "metadata": {
  "kernelspec": {
   "display_name": "Python 3 (ipykernel)",
   "language": "python",
   "name": "python3"
  },
  "language_info": {
   "codemirror_mode": {
    "name": "ipython",
    "version": 3
   },
   "file_extension": ".py",
   "mimetype": "text/x-python",
   "name": "python",
   "nbconvert_exporter": "python",
   "pygments_lexer": "ipython3",
   "version": "3.7.9"
  },
  "nbTranslate": {
   "displayLangs": [
    "zh-cn",
    "en"
   ],
   "hotkey": "alt-t",
   "langInMainMenu": true,
   "sourceLang": "en",
   "targetLang": "zh-cn",
   "useGoogleTranslate": true
  },
  "toc": {
   "base_numbering": 1,
   "nav_menu": {},
   "number_sections": true,
   "sideBar": true,
   "skip_h1_title": true,
   "title_cell": "Table of Contents",
   "title_sidebar": "Contents",
   "toc_cell": true,
   "toc_position": {},
   "toc_section_display": true,
   "toc_window_display": true
  }
 },
 "nbformat": 4,
 "nbformat_minor": 4
}
