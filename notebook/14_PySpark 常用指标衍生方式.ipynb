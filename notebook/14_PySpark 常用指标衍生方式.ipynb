{
 "cells": [
  {
   "cell_type": "markdown",
   "id": "382361cd",
   "metadata": {},
   "source": [
    "# PySpark 常用指标衍生计算方式"
   ]
  },
  {
   "cell_type": "code",
   "execution_count": 1,
   "id": "0d4c6aa3",
   "metadata": {},
   "outputs": [],
   "source": [
    "from pyspark.sql.window import Window\n",
    "from pyspark.sql import functions as F"
   ]
  },
  {
   "cell_type": "markdown",
   "id": "088a0971",
   "metadata": {},
   "source": [
    "## 1. 多个列求和"
   ]
  },
  {
   "cell_type": "markdown",
   "id": "f42f8eaf",
   "metadata": {},
   "source": [
    "```python\n",
    "columns = ['col1', 'col2', 'col3']\n",
    "df = df.withColumn('sum_cols', F.expr(' + '.join(columns)))\n",
    "```"
   ]
  },
  {
   "cell_type": "markdown",
   "id": "b8d57f71",
   "metadata": {},
   "source": [
    "## 2. 同比与环比计算"
   ]
  },
  {
   "cell_type": "markdown",
   "id": "80405e60",
   "metadata": {},
   "source": [
    "### 2.1 创建数据"
   ]
  },
  {
   "cell_type": "code",
   "execution_count": 2,
   "id": "81d89229",
   "metadata": {},
   "outputs": [
    {
     "name": "stdout",
     "output_type": "stream",
     "text": [
      "+---------+-----+----+-----+---+\n",
      "|load_date|sales|year|month|day|\n",
      "+---------+-----+----+-----+---+\n",
      "| 20200131|  300|2020|    1| 31|\n",
      "| 20200229|  320|2020|    2| 29|\n",
      "| 20190131|  280|2019|    1| 31|\n",
      "| 20190228|  400|2019|    2| 28|\n",
      "| 20200331|  187|2020|    3| 31|\n",
      "+---------+-----+----+-----+---+\n",
      "\n"
     ]
    }
   ],
   "source": [
    "# 创建数据\n",
    "df = spark.createDataFrame([\n",
    "        ('20200131', 300),        \n",
    "        ('20200229', 320),\n",
    "        ('20190131', 280),\n",
    "        ('20190228', 400),\n",
    "        ('20200331', 187)\n",
    "    ], ['load_date', 'sales'])\n",
    "\n",
    "# 提取年月日\n",
    "df = df.withColumn('year', F.year(F.to_date(F.col(\"load_date\"), \"yyyMMdd\")))\\\n",
    "    .withColumn('month', F.month(F.to_date(F.col(\"load_date\"), \"yyyMMdd\")))\\\n",
    "    .withColumn('day', F.dayofmonth(F.to_date(F.col(\"load_date\"), \"yyyMMdd\")))\n",
    "\n",
    "df.show()"
   ]
  },
  {
   "cell_type": "markdown",
   "id": "3d8fff77",
   "metadata": {},
   "source": [
    "### 2.2 计算同比环比"
   ]
  },
  {
   "cell_type": "code",
   "execution_count": 3,
   "id": "f7bf1413",
   "metadata": {},
   "outputs": [],
   "source": [
    "wind_qoq = Window.partitionBy('year').orderBy('month') # 环比窗口\n",
    "wind_yoy = Window.partitionBy('month').orderBy('year') # 同比窗口"
   ]
  },
  {
   "cell_type": "code",
   "execution_count": 4,
   "id": "bcf0af95",
   "metadata": {},
   "outputs": [
    {
     "name": "stdout",
     "output_type": "stream",
     "text": [
      "+---------+-----+----+-----+---+-------------------+--------------------+\n",
      "|load_date|sales|year|month|day|               环比|                同比|\n",
      "+---------+-----+----+-----+---+-------------------+--------------------+\n",
      "| 20190131|  280|2019|    1| 31|               null|                null|\n",
      "| 20190228|  400|2019|    2| 28| 0.4285714285714286|                null|\n",
      "| 20200131|  300|2020|    1| 31|               null|  0.0714285714285714|\n",
      "| 20200229|  320|2020|    2| 29|0.06666666666666665|-0.19999999999999996|\n",
      "| 20200331|  187|2020|    3| 31|          -0.415625|                null|\n",
      "+---------+-----+----+-----+---+-------------------+--------------------+\n",
      "\n"
     ]
    }
   ],
   "source": [
    "df = df.withColumn('环比', F.col('sales') / F.lag('sales').over(wind_qoq)-1)\\\n",
    "    .withColumn('同比', F. col('sales')/ F.lag('sales').over(wind_yoy)-1)\\\n",
    "    .orderBy('year','month')\n",
    "df.show()"
   ]
  },
  {
   "cell_type": "markdown",
   "id": "6a91ef5e",
   "metadata": {},
   "source": [
    "## 3. 同行业地区位置（排名）"
   ]
  },
  {
   "cell_type": "code",
   "execution_count": null,
   "id": "01818d84",
   "metadata": {},
   "outputs": [],
   "source": [
    "wind_zone = Window.partitionBy('load_date', 'zone').orderBy(F.desc(feature_name))     # 地区排名窗口\n",
    "wind_indu = Window.partitionBy('load_date', 'industry').orderBy(F.desc(feature_name)) # 行业排名窗口"
   ]
  },
  {
   "cell_type": "code",
   "execution_count": null,
   "id": "c8e31433",
   "metadata": {},
   "outputs": [],
   "source": [
    "df = df.withColumn('rank_zone', F.percent_rank().over(wind_zone))\n",
    "df = df.withColumn('rank_indu', F.percent_rank().over(wind_indu))"
   ]
  },
  {
   "cell_type": "markdown",
   "id": "2fc0e101",
   "metadata": {},
   "source": [
    "---"
   ]
  }
 ],
 "metadata": {
  "kernelspec": {
   "display_name": "Python 3 (ipykernel)",
   "language": "python",
   "name": "python3"
  },
  "language_info": {
   "codemirror_mode": {
    "name": "ipython",
    "version": 3
   },
   "file_extension": ".py",
   "mimetype": "text/x-python",
   "name": "python",
   "nbconvert_exporter": "python",
   "pygments_lexer": "ipython3",
   "version": "3.7.9"
  },
  "toc": {
   "base_numbering": 1,
   "nav_menu": {},
   "number_sections": true,
   "sideBar": true,
   "skip_h1_title": true,
   "title_cell": "Table of Contents",
   "title_sidebar": "Contents",
   "toc_cell": false,
   "toc_position": {},
   "toc_section_display": true,
   "toc_window_display": true
  }
 },
 "nbformat": 4,
 "nbformat_minor": 5
}
