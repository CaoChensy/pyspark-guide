{
 "cells": [
  {
   "cell_type": "markdown",
   "id": "7b938fb6",
   "metadata": {},
   "source": [
    "# PySpark 缺失与排序"
   ]
  },
  {
   "cell_type": "code",
   "execution_count": 1,
   "id": "d3f027b7",
   "metadata": {},
   "outputs": [],
   "source": [
    "import pyspark.sql.functions as F"
   ]
  },
  {
   "cell_type": "markdown",
   "id": "d0b686a0",
   "metadata": {},
   "source": [
    "## 缺失"
   ]
  },
  {
   "cell_type": "markdown",
   "id": "4db80111",
   "metadata": {},
   "source": [
    "### 缺失查找"
   ]
  },
  {
   "cell_type": "markdown",
   "id": "047a979e",
   "metadata": {},
   "source": [
    "- `isnan` 将非数字数据筛选出来\n",
    "- `isnull` 将空数据筛选出来"
   ]
  },
  {
   "cell_type": "code",
   "execution_count": 2,
   "id": "f3022eb0",
   "metadata": {
    "scrolled": true
   },
   "outputs": [
    {
     "name": "stdout",
     "output_type": "stream",
     "text": [
      "+-----+----+------+\n",
      "| name| age|height|\n",
      "+-----+----+------+\n",
      "|Alice|   5|    80|\n",
      "| null|   6|    76|\n",
      "|  Bob|null|    60|\n",
      "+-----+----+------+\n",
      "\n"
     ]
    }
   ],
   "source": [
    "df = spark.createDataFrame(\n",
    "    [['Alice', 5, 80,],[None, 6, 76,],\n",
    "        ['Bob', None, 60,],],\n",
    "    schema=['name', 'age', 'height'])\n",
    "df.show()"
   ]
  },
  {
   "cell_type": "markdown",
   "id": "10e7ce69",
   "metadata": {},
   "source": [
    "### 删除含有缺失值的行"
   ]
  },
  {
   "cell_type": "code",
   "execution_count": 3,
   "id": "c2135215",
   "metadata": {},
   "outputs": [
    {
     "name": "stdout",
     "output_type": "stream",
     "text": [
      "+-----+---+------+\n",
      "| name|age|height|\n",
      "+-----+---+------+\n",
      "|Alice|  5|    80|\n",
      "+-----+---+------+\n",
      "\n"
     ]
    }
   ],
   "source": [
    "df.dropna(how='any', thresh=None, subset=None).show()"
   ]
  },
  {
   "cell_type": "markdown",
   "id": "43c9c815",
   "metadata": {},
   "source": [
    "### 将缺失值填充成特定的值"
   ]
  },
  {
   "cell_type": "code",
   "execution_count": 4,
   "id": "7bd637cf",
   "metadata": {},
   "outputs": [
    {
     "name": "stdout",
     "output_type": "stream",
     "text": [
      "+-----+---+------+\n",
      "| name|age|height|\n",
      "+-----+---+------+\n",
      "|Alice|  5|    80|\n",
      "| null|  6|    76|\n",
      "|  Bob|  1|    60|\n",
      "+-----+---+------+\n",
      "\n"
     ]
    }
   ],
   "source": [
    "df.fillna(1).show()"
   ]
  },
  {
   "cell_type": "markdown",
   "id": "a3c191a9",
   "metadata": {},
   "source": [
    "### 按字段填充成特定值"
   ]
  },
  {
   "cell_type": "code",
   "execution_count": 5,
   "id": "4497dde6",
   "metadata": {},
   "outputs": [
    {
     "name": "stdout",
     "output_type": "stream",
     "text": [
      "+-------+---+------+\n",
      "|   name|age|height|\n",
      "+-------+---+------+\n",
      "|  Alice|  5|    80|\n",
      "|unknown|  6|    76|\n",
      "|    Bob| 50|    60|\n",
      "+-------+---+------+\n",
      "\n"
     ]
    }
   ],
   "source": [
    "df.na.fill(\n",
    "    {'age': 50, 'name': 'unknown'}\n",
    ").show()"
   ]
  },
  {
   "cell_type": "markdown",
   "id": "8ff2e09f",
   "metadata": {},
   "source": [
    "### 统计缺失值"
   ]
  },
  {
   "cell_type": "code",
   "execution_count": 6,
   "id": "22def80a",
   "metadata": {},
   "outputs": [
    {
     "name": "stdout",
     "output_type": "stream",
     "text": [
      "+----+---+------+\n",
      "|name|age|height|\n",
      "+----+---+------+\n",
      "|   1|  1|     0|\n",
      "+----+---+------+\n",
      "\n"
     ]
    }
   ],
   "source": [
    "df_agg = df.agg(\n",
    "    *[F.count(F.when(F.isnull(c), c)).alias(c) for c in df.columns])\n",
    "df_agg.show()"
   ]
  },
  {
   "cell_type": "markdown",
   "id": "8b838a8d",
   "metadata": {},
   "source": [
    "### 统计缺失率"
   ]
  },
  {
   "cell_type": "code",
   "execution_count": 7,
   "id": "656de32a",
   "metadata": {},
   "outputs": [
    {
     "name": "stdout",
     "output_type": "stream",
     "text": [
      "+-------------------+-------------------+-------------+\n",
      "|        namemissing|         agemissing|heightmissing|\n",
      "+-------------------+-------------------+-------------+\n",
      "|0.33333333333333337|0.33333333333333337|          0.0|\n",
      "+-------------------+-------------------+-------------+\n",
      "\n"
     ]
    }
   ],
   "source": [
    "df.agg(\n",
    "    *[(1 - (F.count(c)/F.count('*'))).alias(c + 'missing') for c in df.columns]\n",
    ").show()"
   ]
  },
  {
   "cell_type": "markdown",
   "id": "27dbcce7",
   "metadata": {},
   "source": [
    "## 排序"
   ]
  },
  {
   "cell_type": "markdown",
   "id": "6224f04a",
   "metadata": {},
   "source": [
    "### 升序排列"
   ]
  },
  {
   "cell_type": "code",
   "execution_count": 8,
   "id": "4ad74578",
   "metadata": {},
   "outputs": [
    {
     "name": "stdout",
     "output_type": "stream",
     "text": [
      "+-----+----+------+\n",
      "| name| age|height|\n",
      "+-----+----+------+\n",
      "| null|   6|    76|\n",
      "|Alice|   5|    80|\n",
      "|  Bob|null|    60|\n",
      "+-----+----+------+\n",
      "\n"
     ]
    }
   ],
   "source": [
    "df.orderBy(\"name\").show()"
   ]
  },
  {
   "cell_type": "markdown",
   "id": "e4aeed26",
   "metadata": {},
   "source": [
    "### `age`升序，`name`降序排列"
   ]
  },
  {
   "cell_type": "code",
   "execution_count": 9,
   "id": "f9ce1ecf",
   "metadata": {},
   "outputs": [
    {
     "name": "stdout",
     "output_type": "stream",
     "text": [
      "+-----+----+------+\n",
      "| name| age|height|\n",
      "+-----+----+------+\n",
      "| null|   6|    76|\n",
      "|Alice|   5|    80|\n",
      "|  Bob|null|    60|\n",
      "+-----+----+------+\n",
      "\n"
     ]
    }
   ],
   "source": [
    "df.orderBy(\n",
    "    ['age', 'name'], ascending=[0, 1]).show()"
   ]
  },
  {
   "cell_type": "code",
   "execution_count": 10,
   "id": "aa2f2942",
   "metadata": {},
   "outputs": [
    {
     "name": "stdout",
     "output_type": "stream",
     "text": [
      "+-----+----+------+\n",
      "| name| age|height|\n",
      "+-----+----+------+\n",
      "|  Bob|null|    60|\n",
      "|Alice|   5|    80|\n",
      "| null|   6|    76|\n",
      "+-----+----+------+\n",
      "\n"
     ]
    }
   ],
   "source": [
    "df.orderBy(df[\"age\"].asc()).show()"
   ]
  },
  {
   "cell_type": "code",
   "execution_count": 11,
   "id": "64db7996",
   "metadata": {},
   "outputs": [
    {
     "name": "stdout",
     "output_type": "stream",
     "text": [
      "+-----+----+------+\n",
      "| name| age|height|\n",
      "+-----+----+------+\n",
      "|  Bob|null|    60|\n",
      "|Alice|   5|    80|\n",
      "| null|   6|    76|\n",
      "+-----+----+------+\n",
      "\n",
      "+-----+----+------+\n",
      "| name| age|height|\n",
      "+-----+----+------+\n",
      "| null|   6|    76|\n",
      "|Alice|   5|    80|\n",
      "|  Bob|null|    60|\n",
      "+-----+----+------+\n",
      "\n",
      "+-----+----+------+\n",
      "| name| age|height|\n",
      "+-----+----+------+\n",
      "|Alice|   5|    80|\n",
      "| null|   6|    76|\n",
      "|  Bob|null|    60|\n",
      "+-----+----+------+\n",
      "\n",
      "+-----+----+------+\n",
      "| name| age|height|\n",
      "+-----+----+------+\n",
      "| null|   6|    76|\n",
      "|Alice|   5|    80|\n",
      "|  Bob|null|    60|\n",
      "+-----+----+------+\n",
      "\n",
      "+-----+----+------+\n",
      "| name| age|height|\n",
      "+-----+----+------+\n",
      "|  Bob|null|    60|\n",
      "|Alice|   5|    80|\n",
      "| null|   6|    76|\n",
      "+-----+----+------+\n",
      "\n",
      "+-----+----+------+\n",
      "| name| age|height|\n",
      "+-----+----+------+\n",
      "|  Bob|null|    60|\n",
      "| null|   6|    76|\n",
      "|Alice|   5|    80|\n",
      "+-----+----+------+\n",
      "\n"
     ]
    }
   ],
   "source": [
    "df.orderBy(F.asc('age')).show()              # 升序\n",
    "df.orderBy(F.desc('age')).show()             # 降序\n",
    "df.orderBy(F.asc_nulls_last('age')).show()   # 升序Null置于最后\n",
    "df.orderBy(F.desc_nulls_last('age')).show()  # 降序Null置于最后\n",
    "df.orderBy(F.asc_nulls_first('age')).show()  # 升序Null置于开始\n",
    "df.orderBy(F.desc_nulls_first('age')).show() # 降序Null置于开始"
   ]
  },
  {
   "cell_type": "markdown",
   "id": "e98f41d4",
   "metadata": {},
   "source": [
    "----"
   ]
  }
 ],
 "metadata": {
  "kernelspec": {
   "display_name": "Python 3 (ipykernel)",
   "language": "python",
   "name": "python3"
  },
  "language_info": {
   "codemirror_mode": {
    "name": "ipython",
    "version": 3
   },
   "file_extension": ".py",
   "mimetype": "text/x-python",
   "name": "python",
   "nbconvert_exporter": "python",
   "pygments_lexer": "ipython3",
   "version": "3.7.9"
  },
  "toc": {
   "base_numbering": 1,
   "nav_menu": {},
   "number_sections": true,
   "sideBar": true,
   "skip_h1_title": false,
   "title_cell": "Table of Contents",
   "title_sidebar": "Contents",
   "toc_cell": false,
   "toc_position": {},
   "toc_section_display": true,
   "toc_window_display": true
  }
 },
 "nbformat": 4,
 "nbformat_minor": 5
}
