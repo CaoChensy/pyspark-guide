{
 "cells": [
  {
   "cell_type": "markdown",
   "id": "2564ec1f",
   "metadata": {},
   "source": [
    "# PySpark 自然语言处理 - 分词"
   ]
  },
  {
   "cell_type": "code",
   "execution_count": 1,
   "id": "b6118c68",
   "metadata": {},
   "outputs": [],
   "source": [
    "import jieba\n",
    "import jieba.posseg as pseg\n",
    "from pyspark.sql import functions as F\n",
    "from pyspark.sql.types import ArrayType, StringType"
   ]
  },
  {
   "cell_type": "markdown",
   "id": "e7a4943d",
   "metadata": {},
   "source": [
    "## 创建数据"
   ]
  },
  {
   "cell_type": "code",
   "execution_count": 2,
   "id": "03295553",
   "metadata": {},
   "outputs": [
    {
     "name": "stdout",
     "output_type": "stream",
     "text": [
      "+---+-------------------------------------+\n",
      "| id|                              content|\n",
      "+---+-------------------------------------+\n",
      "|  0|             是相机也无法承载的美貌啊|\n",
      "|  1|世上有两种女孩最可爱，一种是漂亮；...|\n",
      "|  2|               你简直是人类美学的奇迹|\n",
      "+---+-------------------------------------+\n",
      "\n"
     ]
    }
   ],
   "source": [
    "df = spark.createDataFrame([\n",
    "    (0, '是相机也无法承载的美貌啊'),\n",
    "    (1, '世上有两种女孩最可爱，一种是漂亮；一种是聪慧，而你是聪明的漂亮女孩。'),\n",
    "    (2, '你简直是人类美学的奇迹'),],\n",
    "    [\"id\", \"content\"])\n",
    "df.show()"
   ]
  },
  {
   "cell_type": "markdown",
   "id": "a5292cde",
   "metadata": {},
   "source": [
    "## 分词`UDF`"
   ]
  },
  {
   "cell_type": "code",
   "execution_count": 3,
   "id": "b4b3b1e2",
   "metadata": {},
   "outputs": [],
   "source": [
    "@F.udf(returnType=ArrayType(elementType=ArrayType(elementType=StringType())))\n",
    "def tokenize(content):\n",
    "    \"\"\"此udf在每个partiton中加载一次词典，\n",
    "    :param content: {str} 要分词的内容\n",
    "    :return: list[word, word, ...]\n",
    "    \"\"\"\n",
    "    words = pseg.cut(content)\n",
    "    word_flags = list()\n",
    "    for word, flag in words:\n",
    "        word_flags.append([flag, word])\n",
    "    return word_flags"
   ]
  },
  {
   "cell_type": "markdown",
   "id": "f338f70e",
   "metadata": {},
   "source": [
    "## 分词"
   ]
  },
  {
   "cell_type": "code",
   "execution_count": 4,
   "id": "b58aec2e",
   "metadata": {},
   "outputs": [],
   "source": [
    "df = df.withColumn('words', tokenize('content')).persist()\n",
    "df_explode = df.select('id', F.explode('words').alias('word'))"
   ]
  },
  {
   "cell_type": "markdown",
   "id": "3cbe4256",
   "metadata": {},
   "source": [
    "## 分词结果"
   ]
  },
  {
   "cell_type": "code",
   "execution_count": 5,
   "id": "8ace9950",
   "metadata": {},
   "outputs": [
    {
     "name": "stdout",
     "output_type": "stream",
     "text": [
      "+---+----+-----+\n",
      "| id|词性|words|\n",
      "+---+----+-----+\n",
      "|  0|   v|   是|\n",
      "|  0|   d| 相机|\n",
      "|  0|   d|   也|\n",
      "|  0|   n| 无法|\n",
      "|  0|   v| 承载|\n",
      "|  0|  uj|   的|\n",
      "|  0|  nz| 美貌|\n",
      "|  0|  zg|   啊|\n",
      "|  1|   s| 世上|\n",
      "|  1|   v|   有|\n",
      "|  1|   m| 两种|\n",
      "|  1|   n| 女孩|\n",
      "|  1|   d|   最|\n",
      "|  1|   v| 可爱|\n",
      "|  1|   x|   ，|\n",
      "|  1|   m| 一种|\n",
      "|  1|   v|   是|\n",
      "|  1|   a| 漂亮|\n",
      "|  1|   x|   ；|\n",
      "|  1|   m| 一种|\n",
      "+---+----+-----+\n",
      "only showing top 20 rows\n",
      "\n"
     ]
    }
   ],
   "source": [
    "df_explode.select('id',\n",
    "    df_explode.word[0].alias('词性'),\n",
    "    df_explode.word[1].alias('words')).show()"
   ]
  },
  {
   "cell_type": "markdown",
   "id": "8bb76b24",
   "metadata": {},
   "source": [
    "---"
   ]
  }
 ],
 "metadata": {
  "kernelspec": {
   "display_name": "Python 3 (ipykernel)",
   "language": "python",
   "name": "python3"
  },
  "language_info": {
   "codemirror_mode": {
    "name": "ipython",
    "version": 3
   },
   "file_extension": ".py",
   "mimetype": "text/x-python",
   "name": "python",
   "nbconvert_exporter": "python",
   "pygments_lexer": "ipython3",
   "version": "3.7.9"
  },
  "toc": {
   "base_numbering": 1,
   "nav_menu": {},
   "number_sections": true,
   "sideBar": true,
   "skip_h1_title": false,
   "title_cell": "Table of Contents",
   "title_sidebar": "Contents",
   "toc_cell": false,
   "toc_position": {},
   "toc_section_display": true,
   "toc_window_display": false
  }
 },
 "nbformat": 4,
 "nbformat_minor": 5
}
