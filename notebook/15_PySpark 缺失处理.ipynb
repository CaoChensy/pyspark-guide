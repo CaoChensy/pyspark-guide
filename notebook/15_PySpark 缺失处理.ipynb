{
 "cells": [
  {
   "cell_type": "markdown",
   "id": "36650453",
   "metadata": {},
   "source": [
    "# PySpark 缺失处理"
   ]
  },
  {
   "cell_type": "code",
   "execution_count": 1,
   "id": "34319f78",
   "metadata": {},
   "outputs": [],
   "source": [
    "from pyspark.sql import functions as F\n",
    "from pyspark.sql.window import Window"
   ]
  },
  {
   "cell_type": "markdown",
   "id": "9a23cc4d",
   "metadata": {},
   "source": [
    "## 1. 将值替换为`Null`"
   ]
  },
  {
   "cell_type": "markdown",
   "id": "ff879e02",
   "metadata": {},
   "source": [
    "常用于将`PySpark DataFrame` 中的 `0, ''` 替换为 `Null`。"
   ]
  },
  {
   "cell_type": "markdown",
   "id": "c208af73",
   "metadata": {},
   "source": [
    "```python\n",
    "df.select(*[F.when(F.col(col) == 0, None).otherwise(F.col(col)) for col in df.columns])\n",
    "```"
   ]
  },
  {
   "cell_type": "markdown",
   "id": "7f067cc8",
   "metadata": {},
   "source": [
    "## 2. `forward`，`backward`填充"
   ]
  },
  {
   "cell_type": "markdown",
   "id": "3bd2ef85",
   "metadata": {},
   "source": [
    "- `forward fill`: 使用前面的一个值填充后面的值。\n",
    "- `backward fill`: 使用后面的值填充前面的值。"
   ]
  },
  {
   "cell_type": "markdown",
   "id": "f7d0527a",
   "metadata": {},
   "source": [
    "### 2.1 创建数据集"
   ]
  },
  {
   "cell_type": "code",
   "execution_count": 2,
   "id": "d03a60f8",
   "metadata": {},
   "outputs": [
    {
     "name": "stdout",
     "output_type": "stream",
     "text": [
      "+---+---+-----------+\n",
      "| id|day|temperature|\n",
      "+---+---+-----------+\n",
      "|  1| d1|       null|\n",
      "|  1| d2|         10|\n",
      "|  1| d3|       null|\n",
      "|  1| d4|         30|\n",
      "|  1| d5|       null|\n",
      "|  1| d6|       null|\n",
      "+---+---+-----------+\n",
      "\n"
     ]
    }
   ],
   "source": [
    "df = spark.createDataFrame([\n",
    "    (1, 'd1',None),\n",
    "    (1, 'd2',10),\n",
    "    (1, 'd3',None),\n",
    "    (1, 'd4',30),\n",
    "    (1, 'd5',None),\n",
    "    (1, 'd6',None),\n",
    "],('id', 'day','temperature'))\n",
    "df.show()"
   ]
  },
  {
   "cell_type": "markdown",
   "id": "347dfa72",
   "metadata": {},
   "source": [
    "### 2.2 填充"
   ]
  },
  {
   "cell_type": "code",
   "execution_count": 4,
   "id": "cf9099aa",
   "metadata": {},
   "outputs": [
    {
     "name": "stdout",
     "output_type": "stream",
     "text": [
      "+---+---+-----------+------------+-------------+\n",
      "| id|day|temperature|forward_fill|backward_fill|\n",
      "+---+---+-----------+------------+-------------+\n",
      "|  1| d1|       null|        null|           10|\n",
      "|  1| d2|         10|          10|           10|\n",
      "|  1| d3|       null|          10|           30|\n",
      "|  1| d4|         30|          30|           30|\n",
      "|  1| d5|       null|          30|         null|\n",
      "|  1| d6|       null|          30|         null|\n",
      "+---+---+-----------+------------+-------------+\n",
      "\n"
     ]
    }
   ],
   "source": [
    "forward = Window.partitionBy('id').orderBy('day').rowsBetween(\n",
    "    Window.unboundedPreceding, Window.currentRow)\n",
    "backward = Window.partitionBy('id').orderBy('day').rowsBetween(\n",
    "    Window.currentRow, Window.unboundedFollowing)\n",
    "\n",
    "df.withColumn('forward_fill', F.last('temperature', ignorenulls=True).over(forward))\\\n",
    "  .withColumn('backward_fill', F.first('temperature', ignorenulls=True).over(backward))\\\n",
    ".show()"
   ]
  },
  {
   "cell_type": "markdown",
   "id": "9fe8d4f8",
   "metadata": {},
   "source": [
    "`rowsBetween`\n",
    "指定分区排序之后进行操作时，操作的数据范围。\n",
    "有两个参数，第一个指定操作的起始位置，第二个指定操作的最后位置。\n",
    "- `Window.unboundedPreceding`:分区的开始位置\n",
    "- `Window.currentRow`:分区计算到现在的位置\n",
    "- `Window.unboundedFollowing`:分区的最后位置。\n",
    "- 负数：表示若前面有元素，范围向前延申几个元素\n",
    "- 0：表示当前位置，等价于Window.currentRow\n",
    "- 正数：表示若后面有元素，范围向后延申几个元素"
   ]
  },
  {
   "cell_type": "markdown",
   "id": "b242a532",
   "metadata": {},
   "source": [
    "## 3. `coalesce`"
   ]
  },
  {
   "cell_type": "markdown",
   "id": "c65e854e",
   "metadata": {},
   "source": [
    "返回第一个不为`Null`列中的值"
   ]
  },
  {
   "cell_type": "code",
   "execution_count": 4,
   "id": "9b64ad7a",
   "metadata": {
    "scrolled": true
   },
   "outputs": [
    {
     "name": "stdout",
     "output_type": "stream",
     "text": [
      "+----+----+\n",
      "|   a|   b|\n",
      "+----+----+\n",
      "|null|null|\n",
      "|   1|null|\n",
      "|null|   2|\n",
      "+----+----+\n",
      "\n"
     ]
    }
   ],
   "source": [
    "df = spark.createDataFrame(\n",
    "    [(None, None), (1, None), (None, 2)], (\"a\", \"b\"))\n",
    "df.show()"
   ]
  },
  {
   "cell_type": "code",
   "execution_count": 7,
   "id": "c9bc9837",
   "metadata": {},
   "outputs": [
    {
     "name": "stdout",
     "output_type": "stream",
     "text": [
      "+--------------+\n",
      "|coalesce(a, b)|\n",
      "+--------------+\n",
      "|          null|\n",
      "|             1|\n",
      "|             2|\n",
      "+--------------+\n",
      "\n"
     ]
    }
   ],
   "source": [
    "df.select(F.coalesce(df.a, df.b)).show()"
   ]
  },
  {
   "cell_type": "code",
   "execution_count": 9,
   "id": "1eddda3c",
   "metadata": {},
   "outputs": [
    {
     "name": "stdout",
     "output_type": "stream",
     "text": [
      "+----+----+---+\n",
      "|   a|   b|new|\n",
      "+----+----+---+\n",
      "|null|null|0.0|\n",
      "|   1|null|1.0|\n",
      "|null|   2|0.0|\n",
      "+----+----+---+\n",
      "\n"
     ]
    }
   ],
   "source": [
    "df.select('*', F.coalesce(df.a, F.lit(0.0)).alias('new')).show()"
   ]
  },
  {
   "cell_type": "markdown",
   "id": "16838def",
   "metadata": {},
   "source": [
    "---"
   ]
  }
 ],
 "metadata": {
  "kernelspec": {
   "display_name": "Python 3 (ipykernel)",
   "language": "python",
   "name": "python3"
  },
  "language_info": {
   "codemirror_mode": {
    "name": "ipython",
    "version": 3
   },
   "file_extension": ".py",
   "mimetype": "text/x-python",
   "name": "python",
   "nbconvert_exporter": "python",
   "pygments_lexer": "ipython3",
   "version": "3.7.9"
  },
  "toc": {
   "base_numbering": 1,
   "nav_menu": {},
   "number_sections": true,
   "sideBar": true,
   "skip_h1_title": true,
   "title_cell": "Table of Contents",
   "title_sidebar": "Contents",
   "toc_cell": false,
   "toc_position": {},
   "toc_section_display": true,
   "toc_window_display": true
  }
 },
 "nbformat": 4,
 "nbformat_minor": 5
}
