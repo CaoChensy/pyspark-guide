{
 "cells": [
  {
   "cell_type": "markdown",
   "metadata": {},
   "source": [
    "#! https://zhuanlan.zhihu.com/p/450636026"
   ]
  },
  {
   "cell_type": "markdown",
   "metadata": {},
   "source": [
    "![Image](https://pic4.zhimg.com/80/v2-5db1a82996ec388725185ae900a58008.jpg)"
   ]
  },
  {
   "cell_type": "markdown",
   "metadata": {},
   "source": [
    "# PySpark 时间处理"
   ]
  },
  {
   "cell_type": "code",
   "execution_count": 1,
   "metadata": {},
   "outputs": [],
   "source": [
    "from pyspark.sql import functions as F"
   ]
  },
  {
   "cell_type": "markdown",
   "metadata": {},
   "source": [
    "## 示例数据"
   ]
  },
  {
   "cell_type": "code",
   "execution_count": 2,
   "metadata": {},
   "outputs": [
    {
     "name": "stdout",
     "output_type": "stream",
     "text": [
      "+---+----------+\n",
      "| id|      time|\n",
      "+---+----------+\n",
      "|  1|2020-02-01|\n",
      "|  2|2019-03-01|\n",
      "|  3|2021-03-01|\n",
      "+---+----------+\n",
      "\n"
     ]
    }
   ],
   "source": [
    "data=[[\"1\",\"2020-02-01\"],[\"2\",\"2019-03-01\"],[\"3\",\"2021-03-01\"]]\n",
    "df=spark.createDataFrame(data, [\"id\",\"time\"])\n",
    "df.show()"
   ]
  },
  {
   "cell_type": "markdown",
   "metadata": {},
   "source": [
    "## 日期"
   ]
  },
  {
   "cell_type": "markdown",
   "metadata": {},
   "source": [
    "### 当前日期 `current_date()`\n",
    "\n",
    "- 获取当前系统日期。默认情况下，数据将以`yyyy-dd-mm`格式返回。"
   ]
  },
  {
   "cell_type": "code",
   "execution_count": 3,
   "metadata": {},
   "outputs": [
    {
     "name": "stdout",
     "output_type": "stream",
     "text": [
      "+------------+\n",
      "|current_date|\n",
      "+------------+\n",
      "|  2022-01-10|\n",
      "+------------+\n",
      "only showing top 1 row\n",
      "\n"
     ]
    }
   ],
   "source": [
    "df.select(F.current_date().alias(\"current_date\")).show(1)"
   ]
  },
  {
   "cell_type": "markdown",
   "metadata": {},
   "source": [
    "### 日期格式 `date_format()`\n",
    "\n",
    "- 解析日期并转换`yyyy-dd-mm`为`MM-dd-yyyy`格式。"
   ]
  },
  {
   "cell_type": "code",
   "execution_count": 4,
   "metadata": {},
   "outputs": [
    {
     "name": "stdout",
     "output_type": "stream",
     "text": [
      "+----------+-----------+\n",
      "|      time|date_format|\n",
      "+----------+-----------+\n",
      "|2020-02-01| 02-01-2020|\n",
      "|2019-03-01| 03-01-2019|\n",
      "|2021-03-01| 03-01-2021|\n",
      "+----------+-----------+\n",
      "\n"
     ]
    }
   ],
   "source": [
    "df.select(F.col(\"time\"), \n",
    "    F.date_format(F.col(\"time\"), \"MM-dd-yyyy\").alias(\"date_format\")).show()"
   ]
  },
  {
   "cell_type": "markdown",
   "metadata": {},
   "source": [
    "### 使用`to_date()`将日期格式字符串`yyyy-MM-dd`转换为`DateType yyyy-MM-dd`"
   ]
  },
  {
   "cell_type": "code",
   "execution_count": 5,
   "metadata": {},
   "outputs": [
    {
     "name": "stdout",
     "output_type": "stream",
     "text": [
      "+----------+----------+\n",
      "|      time|   to_date|\n",
      "+----------+----------+\n",
      "|2020-02-01|2020-02-01|\n",
      "|2019-03-01|2019-03-01|\n",
      "|2021-03-01|2021-03-01|\n",
      "+----------+----------+\n",
      "\n"
     ]
    }
   ],
   "source": [
    "df.select(F.col(\"time\"), \n",
    "    F.to_date(F.col(\"time\"), \"yyy-MM-dd\").alias(\"to_date\")).show()"
   ]
  },
  {
   "cell_type": "markdown",
   "metadata": {},
   "source": [
    "### 两个日期之间的日差`datediff()`"
   ]
  },
  {
   "cell_type": "code",
   "execution_count": 6,
   "metadata": {},
   "outputs": [
    {
     "name": "stdout",
     "output_type": "stream",
     "text": [
      "+----------+--------+\n",
      "|      time|datediff|\n",
      "+----------+--------+\n",
      "|2020-02-01|     709|\n",
      "|2019-03-01|    1046|\n",
      "|2021-03-01|     315|\n",
      "+----------+--------+\n",
      "\n"
     ]
    }
   ],
   "source": [
    "df.select(F.col(\"time\"), \n",
    "    F.datediff(F.current_date(), F.col(\"time\")).alias(\"datediff\")  \n",
    ").show()"
   ]
  },
  {
   "cell_type": "markdown",
   "metadata": {},
   "source": [
    "### 两个日期之间的月份`months_between()`"
   ]
  },
  {
   "cell_type": "code",
   "execution_count": 7,
   "metadata": {},
   "outputs": [
    {
     "name": "stdout",
     "output_type": "stream",
     "text": [
      "+----------+--------------+\n",
      "|      time|months_between|\n",
      "+----------+--------------+\n",
      "|2020-02-01|   23.29032258|\n",
      "|2019-03-01|   34.29032258|\n",
      "|2021-03-01|   10.29032258|\n",
      "+----------+--------------+\n",
      "\n"
     ]
    }
   ],
   "source": [
    "df.select(F.col(\"time\"), \n",
    "    F.months_between(F.current_date(),F.col(\"time\")).alias(\"months_between\")  \n",
    ").show()"
   ]
  },
  {
   "cell_type": "markdown",
   "metadata": {},
   "source": [
    "### 截断指定单位的日期`trunc()`"
   ]
  },
  {
   "cell_type": "code",
   "execution_count": 8,
   "metadata": {},
   "outputs": [
    {
     "name": "stdout",
     "output_type": "stream",
     "text": [
      "+----------+-----------+----------+-----------+\n",
      "|      time|Month_Trunc|Month_Year|Month_Trunc|\n",
      "+----------+-----------+----------+-----------+\n",
      "|2020-02-01| 2020-02-01|2020-01-01| 2020-02-01|\n",
      "|2019-03-01| 2019-03-01|2019-01-01| 2019-03-01|\n",
      "|2021-03-01| 2021-03-01|2021-01-01| 2021-03-01|\n",
      "+----------+-----------+----------+-----------+\n",
      "\n"
     ]
    }
   ],
   "source": [
    "df.select(F.col(\"time\"), \n",
    "    F.trunc(F.col(\"time\"),\"Month\").alias(\"Month_Trunc\"), \n",
    "    F.trunc(F.col(\"time\"),\"Year\").alias(\"Month_Year\"), \n",
    "    F.trunc(F.col(\"time\"),\"Month\").alias(\"Month_Trunc\")).show()"
   ]
  },
  {
   "cell_type": "markdown",
   "metadata": {},
   "source": [
    "### 月、日加减法"
   ]
  },
  {
   "cell_type": "code",
   "execution_count": 9,
   "metadata": {},
   "outputs": [
    {
     "name": "stdout",
     "output_type": "stream",
     "text": [
      "+----------+----------+----------+----------+----------+\n",
      "|      time|add_months|sub_months|  date_add|  date_sub|\n",
      "+----------+----------+----------+----------+----------+\n",
      "|2020-02-01|2020-05-01|2019-11-01|2020-02-05|2020-01-28|\n",
      "|2019-03-01|2019-06-01|2018-12-01|2019-03-05|2019-02-25|\n",
      "|2021-03-01|2021-06-01|2020-12-01|2021-03-05|2021-02-25|\n",
      "+----------+----------+----------+----------+----------+\n",
      "\n"
     ]
    }
   ],
   "source": [
    "df.select(F.col(\"time\"), \n",
    "    F.add_months(F.col(\"time\"),3).alias(\"add_months\"), \n",
    "    F.add_months(F.col(\"time\"),-3).alias(\"sub_months\"), \n",
    "    F.date_add(F.col(\"time\"),4).alias(\"date_add\"), \n",
    "    F.date_sub(F.col(\"time\"),4).alias(\"date_sub\") \n",
    ").show()"
   ]
  },
  {
   "cell_type": "markdown",
   "metadata": {},
   "source": [
    "### 年、月、下一天、一年中第几个星期、一个月的最后一天"
   ]
  },
  {
   "cell_type": "markdown",
   "metadata": {},
   "source": [
    "- `year`: 返回日期年份\n",
    "- `month`: 返回日期月份\n",
    "- `next_day`: 返回日期下一天\n",
    "- `weekofyear`: 返回日期是一年中的第几个星期\n",
    "- `last_day`: 返回日期当月的最后一天日期"
   ]
  },
  {
   "cell_type": "code",
   "execution_count": 10,
   "metadata": {},
   "outputs": [
    {
     "name": "stdout",
     "output_type": "stream",
     "text": [
      "+----------+----+-----+----------+----------+----------+\n",
      "|      time|year|month|  next_day|weekofyear|  last_day|\n",
      "+----------+----+-----+----------+----------+----------+\n",
      "|2020-02-01|2020|    2|2020-02-02|         5|2020-02-29|\n",
      "|2019-03-01|2019|    3|2019-03-03|         9|2019-03-31|\n",
      "|2021-03-01|2021|    3|2021-03-07|         9|2021-03-31|\n",
      "+----------+----+-----+----------+----------+----------+\n",
      "\n"
     ]
    }
   ],
   "source": [
    "df.select(F.col(\"time\"), \n",
    "     F.year(F.col(\"time\")).alias(\"year\"), \n",
    "     F.month(F.col(\"time\")).alias(\"month\"), \n",
    "     F.next_day(F.col(\"time\"),\"Sunday\").alias(\"next_day\"), \n",
    "     F.weekofyear(F.col(\"time\")).alias(\"weekofyear\"),\n",
    "     F.last_day('time').alias('last_day'),\n",
    ").show()"
   ]
  },
  {
   "cell_type": "markdown",
   "metadata": {},
   "source": [
    "### 星期几、月日、年日、季度\n",
    "- 查询星期几\n",
    "- 一个月中的第几天\n",
    "- 一年中的第几天\n",
    "- 该日期属于那一个季度"
   ]
  },
  {
   "cell_type": "code",
   "execution_count": 11,
   "metadata": {},
   "outputs": [
    {
     "name": "stdout",
     "output_type": "stream",
     "text": [
      "+----------+---------+----------+---------+-------+\n",
      "|      time|dayofweek|dayofmonth|dayofyear|quarter|\n",
      "+----------+---------+----------+---------+-------+\n",
      "|2020-02-01|        7|         1|       32|      1|\n",
      "|2019-03-01|        6|         1|       60|      1|\n",
      "|2021-03-01|        2|         1|       60|      1|\n",
      "+----------+---------+----------+---------+-------+\n",
      "\n"
     ]
    }
   ],
   "source": [
    "df.select(F.col(\"time\"),  \n",
    "     F.dayofweek(F.col(\"time\")).alias(\"dayofweek\"), \n",
    "     F.dayofmonth(F.col(\"time\")).alias(\"dayofmonth\"), \n",
    "     F.dayofyear(F.col(\"time\")).alias(\"dayofyear\"), \n",
    "     F.quarter('time').alias('quarter'),\n",
    ").show()"
   ]
  },
  {
   "cell_type": "markdown",
   "metadata": {},
   "source": [
    "## 时间"
   ]
  },
  {
   "cell_type": "markdown",
   "metadata": {},
   "source": [
    "### 创建一个测试数据"
   ]
  },
  {
   "cell_type": "code",
   "execution_count": 12,
   "metadata": {},
   "outputs": [
    {
     "name": "stdout",
     "output_type": "stream",
     "text": [
      "+---+-----------------------+\n",
      "|id |time                   |\n",
      "+---+-----------------------+\n",
      "|1  |02-01-2020 11 01 19 06 |\n",
      "|2  |03-01-2019 12 01 19 406|\n",
      "|3  |03-01-2021 12 01 19 406|\n",
      "+---+-----------------------+\n",
      "\n"
     ]
    }
   ],
   "source": [
    "data=[\n",
    "    [\"1\",\"02-01-2020 11 01 19 06\"],\n",
    "    [\"2\",\"03-01-2019 12 01 19 406\"],\n",
    "    [\"3\",\"03-01-2021 12 01 19 406\"]]\n",
    "df2=spark.createDataFrame(data,[\"id\",\"time\"])\n",
    "df2.show(truncate=False)"
   ]
  },
  {
   "cell_type": "markdown",
   "metadata": {},
   "source": [
    "### 以 spark 默认格式`yyyy-MM-dd HH:mm:ss`返回当前时间戳"
   ]
  },
  {
   "cell_type": "code",
   "execution_count": 13,
   "metadata": {},
   "outputs": [
    {
     "name": "stdout",
     "output_type": "stream",
     "text": [
      "+--------------------+\n",
      "|   current_timestamp|\n",
      "+--------------------+\n",
      "|2022-01-10 21:07:...|\n",
      "|2022-01-10 21:07:...|\n",
      "|2022-01-10 21:07:...|\n",
      "+--------------------+\n",
      "\n"
     ]
    }
   ],
   "source": [
    "df2.select(F.current_timestamp().alias(\"current_timestamp\")).show()"
   ]
  },
  {
   "cell_type": "markdown",
   "metadata": {},
   "source": [
    "### 将字符串时间戳转换为时间戳类型格式 `to_timestamp()`"
   ]
  },
  {
   "cell_type": "code",
   "execution_count": 14,
   "metadata": {},
   "outputs": [
    {
     "name": "stdout",
     "output_type": "stream",
     "text": [
      "+-----------------------+-----------------------+\n",
      "|time                   |to_timestamp           |\n",
      "+-----------------------+-----------------------+\n",
      "|02-01-2020 11 01 19 06 |2020-02-01 11:01:19.06 |\n",
      "|03-01-2019 12 01 19 406|2019-03-01 12:01:19.406|\n",
      "|03-01-2021 12 01 19 406|2021-03-01 12:01:19.406|\n",
      "+-----------------------+-----------------------+\n",
      "\n"
     ]
    }
   ],
   "source": [
    "df2.select(F.col(\"time\"), \n",
    "    F.to_timestamp(F.col(\"time\"), \"MM-dd-yyyy HH mm ss SSS\").alias(\"to_timestamp\") \n",
    "    ).show(truncate=False)"
   ]
  },
  {
   "cell_type": "markdown",
   "metadata": {},
   "source": [
    "### `小时`、`分钟`、`秒`"
   ]
  },
  {
   "cell_type": "code",
   "execution_count": 15,
   "metadata": {},
   "outputs": [
    {
     "name": "stdout",
     "output_type": "stream",
     "text": [
      "+-----------------------+----+------+------+\n",
      "|time                   |hour|minute|second|\n",
      "+-----------------------+----+------+------+\n",
      "|2020-02-01 11:01:19.06 |11  |1     |19    |\n",
      "|2019-03-01 12:01:19.406|12  |1     |19    |\n",
      "|2021-03-01 12:01:19.406|12  |1     |19    |\n",
      "+-----------------------+----+------+------+\n",
      "\n"
     ]
    }
   ],
   "source": [
    "# 数据\n",
    "data=[\n",
    "    [\"1\",\"2020-02-01 11:01:19.06\"],\n",
    "    [\"2\",\"2019-03-01 12:01:19.406\"],\n",
    "    [\"3\",\"2021-03-01 12:01:19.406\"]]\n",
    "df3=spark.createDataFrame(data,[\"id\",\"time\"])\n",
    "\n",
    "# 提取小时、分钟、秒\n",
    "df3.select(\n",
    "    F.col(\"time\"), \n",
    "    F.hour(F.col(\"time\")).alias(\"hour\"), \n",
    "    F.minute(F.col(\"time\")).alias(\"minute\"),\n",
    "    F.second(F.col(\"time\")).alias(\"second\") \n",
    "    ).show(truncate=False)"
   ]
  },
  {
   "cell_type": "markdown",
   "metadata": {},
   "source": [
    "## 时间戳"
   ]
  },
  {
   "cell_type": "markdown",
   "metadata": {},
   "source": [
    "### 将时间戳转换为日期时间"
   ]
  },
  {
   "cell_type": "code",
   "execution_count": 16,
   "metadata": {},
   "outputs": [
    {
     "name": "stdout",
     "output_type": "stream",
     "text": [
      "+----------+-------------------+\n",
      "| unix_time|                 ts|\n",
      "+----------+-------------------+\n",
      "|1428476400|2015-04-08 15:00:00|\n",
      "+----------+-------------------+\n",
      "\n"
     ]
    }
   ],
   "source": [
    "# 把 timestamp 秒数（从1970年开始）转成日期格式 string\n",
    "time_df = spark.createDataFrame([(1428476400,)], ['unix_time'])\n",
    "time_df = time_df.withColumn('ts', F.from_unixtime('unix_time'))\n",
    "time_df.show()"
   ]
  },
  {
   "cell_type": "markdown",
   "metadata": {},
   "source": [
    "### `unix_timestamp`把日期 `String` 转换成 `timestamp` 秒数，是上面操作的反操作"
   ]
  },
  {
   "cell_type": "code",
   "execution_count": 17,
   "metadata": {},
   "outputs": [
    {
     "name": "stdout",
     "output_type": "stream",
     "text": [
      "+----------+-------------------+--------------+\n",
      "| unix_time|                 ts|unix_timestamp|\n",
      "+----------+-------------------+--------------+\n",
      "|1428476400|2015-04-08 15:00:00|    1428476400|\n",
      "+----------+-------------------+--------------+\n",
      "\n"
     ]
    }
   ],
   "source": [
    "time_df = time_df.withColumn(\"unix_timestamp\",\n",
    "    F.unix_timestamp(time_df.ts, 'yyyy-MM-dd HH:mm:ss'))\n",
    "time_df.show()"
   ]
  },
  {
   "cell_type": "markdown",
   "metadata": {},
   "source": [
    "---"
   ]
  }
 ],
 "metadata": {
  "kernelspec": {
   "display_name": "Python 3",
   "language": "python",
   "name": "python3"
  },
  "language_info": {
   "codemirror_mode": {
    "name": "ipython",
    "version": 3
   },
   "file_extension": ".py",
   "mimetype": "text/x-python",
   "name": "python",
   "nbconvert_exporter": "python",
   "pygments_lexer": "ipython3",
   "version": "3.7.7"
  },
  "nbTranslate": {
   "displayLangs": [
    "zh-cn",
    "en"
   ],
   "hotkey": "alt-t",
   "langInMainMenu": true,
   "sourceLang": "en",
   "targetLang": "zh-cn",
   "useGoogleTranslate": true
  },
  "toc": {
   "base_numbering": 1,
   "nav_menu": {},
   "number_sections": true,
   "sideBar": true,
   "skip_h1_title": false,
   "title_cell": "Table of Contents",
   "title_sidebar": "Contents",
   "toc_cell": false,
   "toc_position": {
    "height": "calc(100% - 180px)",
    "left": "10px",
    "top": "150px",
    "width": "384px"
   },
   "toc_section_display": true,
   "toc_window_display": true
  }
 },
 "nbformat": 4,
 "nbformat_minor": 5
}
