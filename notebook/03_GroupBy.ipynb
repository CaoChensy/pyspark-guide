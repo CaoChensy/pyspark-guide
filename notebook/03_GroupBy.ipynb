{
 "cells": [
  {
   "cell_type": "markdown",
   "id": "2cae5c9c",
   "metadata": {},
   "source": [
    "# PySpark 的几种分组操作 groupBy rollup cube"
   ]
  },
  {
   "cell_type": "code",
   "execution_count": 1,
   "id": "55c63a35",
   "metadata": {},
   "outputs": [],
   "source": [
    "from pyspark.sql import functions as F"
   ]
  },
  {
   "cell_type": "markdown",
   "id": "c8799a9e",
   "metadata": {},
   "source": [
    "## 创建数据"
   ]
  },
  {
   "cell_type": "code",
   "execution_count": 2,
   "id": "ad8e8552",
   "metadata": {},
   "outputs": [
    {
     "name": "stdout",
     "output_type": "stream",
     "text": [
      "root\n",
      " |-- employee_name: string (nullable = true)\n",
      " |-- department: string (nullable = true)\n",
      " |-- salary: long (nullable = true)\n",
      " |-- year: string (nullable = true)\n",
      "\n",
      "+-------------+----------+------+----+\n",
      "|employee_name|department|salary|year|\n",
      "+-------------+----------+------+----+\n",
      "|James        |Sales     |3000  |2020|\n",
      "|Michael      |Sales     |4600  |2020|\n",
      "|Robert       |Sales     |4100  |2020|\n",
      "|Maria        |Finance   |3000  |2020|\n",
      "|James        |Sales     |3000  |2019|\n",
      "|Scott        |Finance   |3300  |2020|\n",
      "|Jen          |Finance   |3900  |2020|\n",
      "|Jeff         |Marketing |3000  |2020|\n",
      "|Kumar        |Marketing |2000  |2020|\n",
      "|Saif         |Sales     |4100  |2020|\n",
      "+-------------+----------+------+----+\n",
      "\n"
     ]
    }
   ],
   "source": [
    "data = [\n",
    "    (\"James\", \"Sales\", 3000, '2020'),\n",
    "    (\"Michael\", \"Sales\", 4600, '2020'),\n",
    "    (\"Robert\", \"Sales\", 4100, '2020'),\n",
    "    (\"Maria\", \"Finance\", 3000, '2020'),\n",
    "    (\"James\", \"Sales\", 3000, '2019'),\n",
    "    (\"Scott\", \"Finance\", 3300, '2020'),\n",
    "    (\"Jen\", \"Finance\", 3900, '2020'),\n",
    "    (\"Jeff\", \"Marketing\", 3000, '2020'),\n",
    "    (\"Kumar\", \"Marketing\", 2000, '2020'),\n",
    "    (\"Saif\", \"Sales\", 4100, '2020')\n",
    "]\n",
    "schema = [\"employee_name\", \"department\", \"salary\", 'year']\n",
    "  \n",
    "df = spark.createDataFrame(data=data, schema=schema)\n",
    "df.printSchema()\n",
    "df.show(truncate=False)"
   ]
  },
  {
   "cell_type": "markdown",
   "id": "4aac2004",
   "metadata": {},
   "source": [
    "## `groupBy`"
   ]
  },
  {
   "cell_type": "markdown",
   "id": "44db2143",
   "metadata": {},
   "source": [
    "分组聚合统计\n",
    "- 按照`department`, `year`计算工资之和。"
   ]
  },
  {
   "cell_type": "code",
   "execution_count": 4,
   "id": "fd48f90f",
   "metadata": {},
   "outputs": [
    {
     "name": "stdout",
     "output_type": "stream",
     "text": [
      "+----------+----+------+\n",
      "|department|year|salary|\n",
      "+----------+----+------+\n",
      "|   Finance|2020| 10200|\n",
      "| Marketing|2020|  5000|\n",
      "|     Sales|2019|  3000|\n",
      "|     Sales|2020| 15800|\n",
      "+----------+----+------+\n",
      "\n"
     ]
    }
   ],
   "source": [
    "df.groupBy('department', 'year').agg(\n",
    "    F.sum('salary').alias('salary')\n",
    ").orderBy('department', 'year').show()"
   ]
  },
  {
   "cell_type": "markdown",
   "id": "f7bb6eb4",
   "metadata": {},
   "source": [
    "## `rollup`"
   ]
  },
  {
   "cell_type": "markdown",
   "id": "0a26a205",
   "metadata": {},
   "source": [
    "1. 先按照 `department`、`employee_name`、`year`分组；\n",
    "1. 然后按照`department`、`employee_name`分组；\n",
    "1. 然后再按照 `department` 分组；\n",
    "1. 最后进行全表分组。\n",
    "1. 后面接聚合函数，此处使用的是`sum`。"
   ]
  },
  {
   "cell_type": "code",
   "execution_count": 4,
   "id": "1cc29fb2",
   "metadata": {},
   "outputs": [
    {
     "name": "stdout",
     "output_type": "stream",
     "text": [
      "+----------+-------------+----+------+\n",
      "|department|employee_name|year|salary|\n",
      "+----------+-------------+----+------+\n",
      "|      null|         null|null| 34000|\n",
      "|   Finance|         null|null| 10200|\n",
      "|   Finance|          Jen|null|  3900|\n",
      "|   Finance|          Jen|2020|  3900|\n",
      "|   Finance|        Maria|null|  3000|\n",
      "|   Finance|        Maria|2020|  3000|\n",
      "|   Finance|        Scott|null|  3300|\n",
      "|   Finance|        Scott|2020|  3300|\n",
      "| Marketing|         null|null|  5000|\n",
      "| Marketing|         Jeff|null|  3000|\n",
      "| Marketing|         Jeff|2020|  3000|\n",
      "| Marketing|        Kumar|null|  2000|\n",
      "| Marketing|        Kumar|2020|  2000|\n",
      "|     Sales|         null|null| 18800|\n",
      "|     Sales|        James|null|  6000|\n",
      "|     Sales|        James|2019|  3000|\n",
      "|     Sales|        James|2020|  3000|\n",
      "|     Sales|      Michael|null|  4600|\n",
      "|     Sales|      Michael|2020|  4600|\n",
      "|     Sales|       Robert|null|  4100|\n",
      "+----------+-------------+----+------+\n",
      "only showing top 20 rows\n",
      "\n"
     ]
    }
   ],
   "source": [
    "df.rollup('department', 'employee_name', 'year').agg(\n",
    "    F.sum('salary').alias('salary')\n",
    ").orderBy('department', 'employee_name', 'year').show()"
   ]
  },
  {
   "cell_type": "markdown",
   "id": "28f9b6a8",
   "metadata": {},
   "source": [
    "## `cube`"
   ]
  },
  {
   "cell_type": "markdown",
   "id": "09df9a48",
   "metadata": {},
   "source": [
    "1. `cube` 先按照`department、employee_name、year`分组；\n",
    "1. 然后按照`(department, employee_name)`、`(department, year)`、`(year, employee_name)`分组；\n",
    "1. 然后按照`department`、`employee_name`、`year`分组；\n",
    "1. 最后进行全表分组。"
   ]
  },
  {
   "cell_type": "code",
   "execution_count": 5,
   "id": "e5101e33",
   "metadata": {
    "scrolled": false
   },
   "outputs": [
    {
     "name": "stdout",
     "output_type": "stream",
     "text": [
      "+----------+-------------+----+------+\n",
      "|department|employee_name|year|salary|\n",
      "+----------+-------------+----+------+\n",
      "|      null|         null|null| 34000|\n",
      "|      null|         null|2019|  3000|\n",
      "|      null|         null|2020| 31000|\n",
      "|      null|        James|null|  6000|\n",
      "|      null|        James|2019|  3000|\n",
      "|      null|        James|2020|  3000|\n",
      "|      null|         Jeff|null|  3000|\n",
      "|      null|         Jeff|2020|  3000|\n",
      "|      null|          Jen|null|  3900|\n",
      "|      null|          Jen|2020|  3900|\n",
      "|      null|        Kumar|null|  2000|\n",
      "|      null|        Kumar|2020|  2000|\n",
      "|      null|        Maria|null|  3000|\n",
      "|      null|        Maria|2020|  3000|\n",
      "|      null|      Michael|null|  4600|\n",
      "|      null|      Michael|2020|  4600|\n",
      "|      null|       Robert|null|  4100|\n",
      "|      null|       Robert|2020|  4100|\n",
      "|      null|         Saif|null|  4100|\n",
      "|      null|         Saif|2020|  4100|\n",
      "+----------+-------------+----+------+\n",
      "only showing top 20 rows\n",
      "\n"
     ]
    }
   ],
   "source": [
    "df.cube('department', 'employee_name', 'year').agg(\n",
    "    F.sum('salary').alias('salary')\n",
    ").orderBy('department', 'employee_name', 'year').show()"
   ]
  },
  {
   "cell_type": "markdown",
   "id": "eb1d7493",
   "metadata": {},
   "source": [
    "### `grouping`"
   ]
  },
  {
   "cell_type": "markdown",
   "id": "f1de3c9c",
   "metadata": {
    "lang": "zh-cn"
   },
   "source": [
    "指示 `GROUP BY` 列表中的指定列是否聚合，在结果集中返回 1 表示聚合或 0 表示未聚合。"
   ]
  },
  {
   "cell_type": "code",
   "execution_count": 6,
   "id": "6fbda70f",
   "metadata": {},
   "outputs": [
    {
     "name": "stdout",
     "output_type": "stream",
     "text": [
      "+----------+----------+------+\n",
      "|department|department|salary|\n",
      "+----------+----------+------+\n",
      "| Marketing|         0|  5000|\n",
      "|   Finance|         0| 10200|\n",
      "|     Sales|         0| 18800|\n",
      "|      null|         1| 34000|\n",
      "+----------+----------+------+\n",
      "\n"
     ]
    }
   ],
   "source": [
    "df.cube(\"department\").agg(\n",
    "    F.grouping(\"department\").alias('department'), \n",
    "    F.sum(\"salary\").alias('salary')\n",
    ").orderBy(\"salary\").show()"
   ]
  },
  {
   "cell_type": "markdown",
   "id": "225b96f0",
   "metadata": {},
   "source": [
    "### `grouping_id`"
   ]
  },
  {
   "cell_type": "markdown",
   "id": "cb73881e",
   "metadata": {
    "lang": "zh-cn"
   },
   "source": [
    "返回分组级别"
   ]
  },
  {
   "cell_type": "code",
   "execution_count": 7,
   "id": "23221831",
   "metadata": {},
   "outputs": [
    {
     "name": "stdout",
     "output_type": "stream",
     "text": [
      "+----------+-------------+----+-----------+------+\n",
      "|department|employee_name|year|group_level|salary|\n",
      "+----------+-------------+----+-----------+------+\n",
      "|      null|         null|null|          7| 34000|\n",
      "|      null|         null|2020|          6| 31000|\n",
      "|      null|         null|2019|          6|  3000|\n",
      "|      null|         Jeff|null|          5|  3000|\n",
      "|      null|      Michael|null|          5|  4600|\n",
      "|      null|        James|null|          5|  6000|\n",
      "|      null|        Kumar|null|          5|  2000|\n",
      "|      null|        Maria|null|          5|  3000|\n",
      "|      null|         Saif|null|          5|  4100|\n",
      "|      null|       Robert|null|          5|  4100|\n",
      "|      null|        Scott|null|          5|  3300|\n",
      "|      null|          Jen|null|          5|  3900|\n",
      "|      null|      Michael|2020|          4|  4600|\n",
      "|      null|       Robert|2020|          4|  4100|\n",
      "|      null|        Kumar|2020|          4|  2000|\n",
      "|      null|        James|2019|          4|  3000|\n",
      "|      null|         Saif|2020|          4|  4100|\n",
      "|      null|        James|2020|          4|  3000|\n",
      "|      null|        Maria|2020|          4|  3000|\n",
      "|      null|        Scott|2020|          4|  3300|\n",
      "+----------+-------------+----+-----------+------+\n",
      "only showing top 20 rows\n",
      "\n"
     ]
    }
   ],
   "source": [
    "df.cube('department', 'employee_name', 'year').agg(\n",
    "    F.grouping_id().alias('group_level'), \n",
    "    F.sum('salary').alias('salary')\n",
    ").orderBy(F.desc('group_level')).show()"
   ]
  },
  {
   "cell_type": "markdown",
   "id": "0278cc18",
   "metadata": {},
   "source": [
    "---"
   ]
  }
 ],
 "metadata": {
  "kernelspec": {
   "display_name": "Python 3",
   "language": "python",
   "name": "python3"
  },
  "language_info": {
   "codemirror_mode": {
    "name": "ipython",
    "version": 3
   },
   "file_extension": ".py",
   "mimetype": "text/x-python",
   "name": "python",
   "nbconvert_exporter": "python",
   "pygments_lexer": "ipython3",
   "version": "3.8.8"
  },
  "nbTranslate": {
   "displayLangs": [
    "zh-cn",
    "en"
   ],
   "hotkey": "alt-t",
   "langInMainMenu": true,
   "sourceLang": "en",
   "targetLang": "zh-cn",
   "useGoogleTranslate": true
  },
  "toc": {
   "base_numbering": 1,
   "nav_menu": {},
   "number_sections": true,
   "sideBar": true,
   "skip_h1_title": false,
   "title_cell": "Table of Contents",
   "title_sidebar": "Contents",
   "toc_cell": false,
   "toc_position": {},
   "toc_section_display": true,
   "toc_window_display": false
  }
 },
 "nbformat": 4,
 "nbformat_minor": 5
}
