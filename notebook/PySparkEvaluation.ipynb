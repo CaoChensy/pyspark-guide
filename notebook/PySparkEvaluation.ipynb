{
 "cells": [
  {
   "cell_type": "markdown",
   "id": "a397554b",
   "metadata": {},
   "source": [
    "# PySpark 模型评估 Evaluation"
   ]
  },
  {
   "cell_type": "markdown",
   "id": "bd1d2b0f",
   "metadata": {},
   "source": [
    "# 构建一个简单模型"
   ]
  },
  {
   "cell_type": "code",
   "execution_count": 1,
   "id": "9ec22f49",
   "metadata": {},
   "outputs": [],
   "source": [
    "from pyspark.ml.linalg import Vectors\n",
    "from pyspark.ml.evaluation import *"
   ]
  },
  {
   "cell_type": "code",
   "execution_count": 2,
   "id": "eb57d22b",
   "metadata": {},
   "outputs": [],
   "source": [
    "Evaluator??"
   ]
  },
  {
   "cell_type": "code",
   "execution_count": 3,
   "id": "28dc8f35",
   "metadata": {},
   "outputs": [
    {
     "name": "stdout",
     "output_type": "stream",
     "text": [
      "+--------------------+-----+\n",
      "|                 raw|label|\n",
      "+--------------------+-----+\n",
      "|           [0.9,0.1]|  0.0|\n",
      "|           [0.9,0.1]|  1.0|\n",
      "|           [0.6,0.4]|  0.0|\n",
      "|           [0.4,0.6]|  0.0|\n",
      "|           [0.4,0.6]|  1.0|\n",
      "|           [0.4,0.6]|  1.0|\n",
      "|[0.19999999999999...|  1.0|\n",
      "+--------------------+-----+\n",
      "\n"
     ]
    }
   ],
   "source": [
    "scoreAndLabels = map(lambda x: (Vectors.dense([1.0 - x[0], x[0]]), x[1]),\n",
    "   [(0.1, 0.0), (0.1, 1.0), (0.4, 0.0), (0.6, 0.0), (0.6, 1.0), (0.6, 1.0), (0.8, 1.0)])\n",
    "dataset = spark.createDataFrame(scoreAndLabels, [\"raw\", \"label\"])\n",
    "dataset.show()"
   ]
  },
  {
   "cell_type": "code",
   "execution_count": null,
   "id": "81e955d9",
   "metadata": {},
   "outputs": [],
   "source": [
    "evaluator = BinaryClassificationEvaluator()\n",
    "evaluator.setRawPredictionCol(\"raw\")\n",
    "\n",
    "evaluator.evaluate(dataset)\n",
    "\n",
    "evaluator.evaluate(dataset, {evaluator.metricName: \"areaUnderPR\"})\n",
    "\n",
    "bce_path = temp_path + \"/bce\"\n",
    "evaluator.save(bce_path)\n",
    "evaluator2 = BinaryClassificationEvaluator.load(bce_path)\n",
    "str(evaluator2.getRawPredictionCol())\n",
    "\n",
    "scoreAndLabelsAndWeight = map(lambda x: (Vectors.dense([1.0 - x[0], x[0]]), x[1], x[2]),\n",
    "   [(0.1, 0.0, 1.0), (0.1, 1.0, 0.9), (0.4, 0.0, 0.7), (0.6, 0.0, 0.9),\n",
    "    (0.6, 1.0, 1.0), (0.6, 1.0, 0.3), (0.8, 1.0, 1.0)])\n",
    "dataset = spark.createDataFrame(scoreAndLabelsAndWeight, [\"raw\", \"label\", \"weight\"])\n",
    "\n",
    "evaluator = BinaryClassificationEvaluator(rawPredictionCol=\"raw\", weightCol=\"weight\")\n",
    "evaluator.evaluate(dataset)\n",
    "\n",
    "evaluator.evaluate(dataset, {evaluator.metricName: \"areaUnderPR\"})\n",
    "\n",
    "evaluator.getNumBins()"
   ]
  }
 ],
 "metadata": {
  "kernelspec": {
   "display_name": "Python 3 (ipykernel)",
   "language": "python",
   "name": "python3"
  },
  "language_info": {
   "codemirror_mode": {
    "name": "ipython",
    "version": 3
   },
   "file_extension": ".py",
   "mimetype": "text/x-python",
   "name": "python",
   "nbconvert_exporter": "python",
   "pygments_lexer": "ipython3",
   "version": "3.7.9"
  },
  "nbTranslate": {
   "displayLangs": [
    "*"
   ],
   "hotkey": "alt-t",
   "langInMainMenu": true,
   "sourceLang": "en",
   "targetLang": "fr",
   "useGoogleTranslate": true
  },
  "toc": {
   "base_numbering": 1,
   "nav_menu": {},
   "number_sections": true,
   "sideBar": true,
   "skip_h1_title": false,
   "title_cell": "Table of Contents",
   "title_sidebar": "Contents",
   "toc_cell": false,
   "toc_position": {},
   "toc_section_display": true,
   "toc_window_display": false
  }
 },
 "nbformat": 4,
 "nbformat_minor": 5
}
