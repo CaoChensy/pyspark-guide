{
 "cells": [
  {
   "cell_type": "code",
   "execution_count": 6,
   "id": "5c0cafdf",
   "metadata": {},
   "outputs": [],
   "source": [
    "from ywcxUtils import *\n",
    "from ywcxUtils.Dataset import *"
   ]
  },
  {
   "cell_type": "code",
   "execution_count": 7,
   "id": "66a98599",
   "metadata": {},
   "outputs": [],
   "source": [
    "# 贷前样本信息表\n",
    "obs_months = 16\n",
    "start_date = '20191231'\n",
    "end_date = '20211031'\n",
    "start_data_date='20180901'\n",
    "\n",
    "# 数据周期与样本周期\n",
    "data_date, sample_date = data_dates(\n",
    "    obs_months=obs_months, start_date=start_date, \n",
    "    end_date=end_date, start_data_date=start_data_date)"
   ]
  },
  {
   "cell_type": "code",
   "execution_count": 10,
   "id": "adda6116",
   "metadata": {},
   "outputs": [],
   "source": [
    "df_index = GetIndexName()"
   ]
  },
  {
   "cell_type": "code",
   "execution_count": 13,
   "id": "84918a5a",
   "metadata": {},
   "outputs": [
    {
     "name": "stdout",
     "output_type": "stream",
     "text": [
      "|    | body   | class   | sub_class   | module       | index_name                                 | index_id   | biz_code   | dat_store_tab_nme         | db     | table              | dim      |\n",
      "|---:|:-------|:--------|:------------|:-------------|:-------------------------------------------|:-----------|:-----------|:--------------------------|:-------|:-------------------|:---------|\n",
      "|  0 | 企业   | 融资    | 行为充分度  | 融资行为评价 | 距离最早狭义贷款合同约定日期               | I10301001  |            | zj_dws.t_ent_index_credit | zj_dws | t_ent_index_credit | 日期     |\n",
      "|  1 | 企业   | 融资    | 行为充分度  | 融资行为评价 | 历史发生贷款报送机构数                     | I10301002  |            | zj_dws.t_ent_index_credit | zj_dws | t_ent_index_credit | 机构数   |\n",
      "|  2 | 企业   | 融资    | 行为充分度  | 融资行为评价 | 历史发生贷款金额总和                       | I10301003  |            | zj_dws.t_ent_index_credit | zj_dws | t_ent_index_credit | 贷款余额 |\n",
      "|  3 | 企业   | 融资    | 行为充分度  | 融资行为评价 | 距离最早贷款发生日期月份数                 | I10301004  |            | zj_dws.t_ent_index_credit | zj_dws | t_ent_index_credit | 月份数   |\n",
      "|  4 | 企业   | 融资    | 行为充分度  | 融资行为评价 | 距离最早狭义贷款业务实际发放发生日期月份数 | I10301005  |            | zj_dws.t_ent_index_credit | zj_dws | t_ent_index_credit | 月份数   |\n"
     ]
    }
   ],
   "source": [
    "print(df_index.head().to_markdown())"
   ]
  },
  {
   "cell_type": "code",
   "execution_count": 14,
   "id": "1f2ad006",
   "metadata": {},
   "outputs": [],
   "source": [
    "ExtractInfrontIndex??"
   ]
  },
  {
   "cell_type": "code",
   "execution_count": null,
   "id": "1814cb13",
   "metadata": {},
   "outputs": [],
   "source": []
  }
 ],
 "metadata": {
  "kernelspec": {
   "display_name": "Python 3 (ipykernel)",
   "language": "python",
   "name": "python3"
  },
  "language_info": {
   "codemirror_mode": {
    "name": "ipython",
    "version": 3
   },
   "file_extension": ".py",
   "mimetype": "text/x-python",
   "name": "python",
   "nbconvert_exporter": "python",
   "pygments_lexer": "ipython3",
   "version": "3.7.9"
  },
  "nbTranslate": {
   "displayLangs": [
    "*"
   ],
   "hotkey": "alt-t",
   "langInMainMenu": true,
   "sourceLang": "en",
   "targetLang": "fr",
   "useGoogleTranslate": true
  },
  "toc": {
   "base_numbering": 1,
   "nav_menu": {},
   "number_sections": true,
   "sideBar": true,
   "skip_h1_title": false,
   "title_cell": "Table of Contents",
   "title_sidebar": "Contents",
   "toc_cell": false,
   "toc_position": {},
   "toc_section_display": true,
   "toc_window_display": false
  }
 },
 "nbformat": 4,
 "nbformat_minor": 5
}
